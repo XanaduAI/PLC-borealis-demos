{
 "cells": [
  {
   "cell_type": "code",
   "execution_count": null,
   "metadata": {
    "collapsed": false,
    "jupyter": {
     "outputs_hidden": false
    }
   },
   "outputs": [],
   "source": [
    "%matplotlib inline"
   ]
  },
  {
   "cell_type": "markdown",
   "metadata": {},
   "source": [
    "Borealis Quickstart\n",
    "=======================================\n",
    "\n",
    "*Authors: Theodor Isacsson and Isaac De Vlugt*\n",
    "\n",
    "In this quickstart, we will show how Xanadu's new Borealis quantum hardware can be programmed in minutes.\n",
    "Borealis showcases quantum computational advantage, as can be seen in our publication in [Nature](https://xanadu.ai/qca-paper)[<sup>1</sup>](#advantage2022) --- meaning that it can compute in seconds quantities that would require years on the fastest available supercomputer.\n",
    "It's hardware is based on [time-domain multiplexing (TDM)](https://strawberryfields.ai/photonics/demos/run_time_domain.html);\n",
    "a single squeezed-light source emits batches of 216 time-ordered squeezed-light \n",
    "pulses that interfere with one another with the help of optical delay loops, \n",
    "programmable beamsplitters, and phase shifters. To demonstrate a quantum computational\n",
    "advantage, we chose a task that is proven to be computationally hard:\n",
    "[Gaussian Boson Sampling (GBS)](https://pennylane.ai/qml/demos/tutorial_gbs.html).\n",
    "We will show you how to run our experiment!\n"
   ]
  },
  {
   "cell_type": "markdown",
   "metadata": {},
   "source": [
    "To start off, we import the necessary packages. Then, by loading\n",
    "a `device <strawberryfields.Device>` object which contains relevant\n",
    "and up-to-date information about Borealis, we can retrieve the device\n",
    "by calling the `device <strawberryfields.Device>`\n",
    "property on the `RemoteEngine <strawberryfields.RemoteEngine>` object.\n",
    "\n"
   ]
  },
  {
   "cell_type": "code",
   "execution_count": null,
   "metadata": {
    "collapsed": false,
    "jupyter": {
     "outputs_hidden": false
    }
   },
   "outputs": [],
   "source": [
    "import strawberryfields as sf\n",
    "import numpy as np\n",
    "\n",
    "eng = sf.RemoteEngine(\"borealis\")\n",
    "device = eng.device"
   ]
  },
  {
   "cell_type": "markdown",
   "metadata": {},
   "source": [
    "A time-domain program is defined by arguments that each quantum\n",
    "gate applies at each time bin, within the duration of the program.\n",
    "We're going to use helper functions that will do some heavy lifting for us.\n",
    "The `borealis_gbs <strawberryfields.tdm.borealis_gbs>` function\n",
    "will summarize all the necessary information for Strawberry Fields\n",
    "and our hardware to implement your circuit, then\n",
    "`get_mode_indices <strawberryfields.tdm.get_mode_indices>`\n",
    "gives us the number of concurrent modes ``N`` and the mode indices ``n``.\n",
    "\n",
    "\n"
   ]
  },
  {
   "cell_type": "code",
   "execution_count": null,
   "metadata": {
    "collapsed": false,
    "jupyter": {
     "outputs_hidden": false
    }
   },
   "outputs": [],
   "source": [
    "from strawberryfields.tdm import borealis_gbs, get_mode_indices\n",
    "\n",
    "gate_args_list = borealis_gbs(device, modes=216, squeezing=\"high\")\n",
    "delays = [1, 6, 36]\n",
    "n, N = get_mode_indices(delays)"
   ]
  },
  {
   "cell_type": "markdown",
   "metadata": {},
   "source": [
    "Finally, we can construct and run the circuit.\n",
    "\n",
    "\n"
   ]
  },
  {
   "cell_type": "code",
   "execution_count": null,
   "metadata": {
    "collapsed": false,
    "jupyter": {
     "outputs_hidden": false
    }
   },
   "outputs": [],
   "source": [
    "from strawberryfields.ops import Sgate, Rgate, BSgate, MeasureFock\n",
    "\n",
    "prog = sf.TDMProgram(N)\n",
    "\n",
    "with prog.context(*gate_args_list) as (p, q):\n",
    "    Sgate(p[0]) | q[n[0]]\n",
    "    for i in range(len(delays)):\n",
    "        Rgate(p[2 * i + 1]) | q[n[i]]\n",
    "        BSgate(p[2 * i + 2], np.pi / 2) | (q[n[i + 1]], q[n[i]])\n",
    "    MeasureFock() | q[0]\n",
    "\n",
    "shots = 10_000\n",
    "results = eng.run(prog, shots=shots, crop=True)\n",
    "print(results.samples)"
   ]
  },
  {
   "cell_type": "markdown",
   "metadata": {},
   "source": [
    "Congratulations for successfully demonstrating quantum advantage!\n",
    "\n",
    "\n"
   ]
  },
  {
   "cell_type": "markdown",
   "metadata": {},
   "source": [
    "<h2>References</h2>\n",
    "\n",
    "\n",
    "<span id=\"advantage2022\">[1]</span>: <i>Madsen, L.S., Laudenbach, F., Askarani, M.F. et al.</i> \"Quantum computational advantage with a programmable photonic processor\", <a href=\"https://www.nature.com/articles/s41586-022-04725-x\">Nature 606, 75-81</a>, 2022"
   ]
  },
  {
   "cell_type": "markdown",
   "metadata": {},
   "source": [
    "About the authors\n",
    "-----------------\n",
    "<div class=\"bio\" style=\"display: flex\">\n",
    "    <div class=\"photo\" style=\"max-width: 60px; margin-right: 1em;\">\n",
    "        <img class=\"photo__img\" src=\"./.imgs/Theodor.jpg\" alt=\"Theodor Isacsson\" style=\"width: 100%; border-radius: 50%;\">\n",
    "    </div>\n",
    "    <div class=\"bio-text\">\n",
    "        <h4 class=\"bio-text__author-name\" style=\"margin-top: 0; margin-bottom: 0; font-weight: bold;\">Theodor Isacsson</h4>\n",
    "        <p class=\"bio-text__author-description\" style=\"margin-top: 1em;\">Theodor is a quantum software developer at Xanadu. He works on the\n",
    "            photonics software stack, leading the efforts to expand and maintain packages such as Strawberry Fields and\n",
    "            The Walrus.</p>\n",
    "    </div>\n",
    "</div>\n",
    "<div class=\"bio\" style=\"display: flex\">\n",
    "    <div class=\"photo\" style=\"max-width: 60px; margin-right: 1em;\">\n",
    "        <img class=\"photo__img\" src=\"./.imgs/Isaac.png\" alt=\"Isaac De Vlugt\" style=\"width: 100%; border-radius: 50%;\">\n",
    "    </div>\n",
    "    <div class=\"bio-text\">\n",
    "        <h4 class=\"bio-text__author-name\" style=\"margin-top: 0; margin-bottom: 0; font-weight: bold;\">Isaac De Vlugt</h4>\n",
    "        <p class=\"bio-text__author-description\" style=\"margin-top: 1em;\">Isaac De Vlugt is a quantum computing educator at Xanadu. His work involves creating accessible quantum computing content for the community, as well as spamming gifs in our Slack channels.</p>\n",
    "    </div>\n",
    "</div>"
   ]
  }
 ],
 "metadata": {
  "kernelspec": {
   "display_name": "PennyLane",
   "language": "python",
   "name": "pennylane"
  },
  "language_info": {
   "codemirror_mode": {
    "name": "ipython",
    "version": 3
   },
   "file_extension": ".py",
   "mimetype": "text/x-python",
   "name": "python",
   "nbconvert_exporter": "python",
   "pygments_lexer": "ipython3",
   "version": "3.9.12"
  }
 },
 "nbformat": 4,
 "nbformat_minor": 4
}
