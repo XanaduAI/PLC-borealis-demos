{
  "cells": [
    {
      "cell_type": "code",
      "execution_count": null,
      "metadata": {
        "collapsed": false
      },
      "outputs": [],
      "source": [
        "# This cell is added by sphinx-gallery\n# It can be customized to whatever you like\n%matplotlib inline"
      ]
    },
    {
      "cell_type": "markdown",
      "metadata": {},
      "source": [
        "\nAdvanced time-domain photonic circuits\n======================================\n\n*Authors: Fabian Laudenbach and Theodor Isacsson*\n\nIn the `beginner's demo <link-to-beginner's-demo>`_ we explained how Xanadu's\nquantum-advantage machine *Borealis* can be programmed in a fairly\nstraightforward way, using some convenience functions that helped us make our\nuser-defined circuit compatible with the hardware. In this advanced tutorial, we\nwill again define and submit an instance of Gaussian Boson Sampling (GBS), but\nthis time we will carry out the steps more manually. This allows us to\nunderstand better the subtleties of time-domain programs and exercise more\ncontrol over the quantum circuit we create.\n\nLet's have a look at the schematic below. It looks very much like the one shown\nin the beginner's demo, only it's slightly more accurate as we have added two\nmore details:\n\n- There is now a phase gate located in each of the three delay lines.\n- After the three cascaded loops, the one spatial mode branches out into a\n  binary tree of 16 spatial modes, each one probed by its own photon-number\n  resolving detector.\n\n![](/tutorials/images/borealis_schematic_advanced.png)\n\n   :width: 100%\n   :align: center\n\nThis advanced tutorial will direct more focus on these aspects and help us to\nget a more comprehensive understanding of *Borealis*.\n"
      ]
    },
    {
      "cell_type": "markdown",
      "metadata": {},
      "source": [
        "Loading the device specification\n~~~~~~~~~~~~~~~~~~~~~~~~~~~~~~~~\n\nWe again need to import Strawberry Fields along with NumPy and load the\n*Borealis* ``device`` object.\n\n\n"
      ]
    },
    {
      "cell_type": "code",
      "execution_count": null,
      "metadata": {
        "collapsed": false
      },
      "outputs": [],
      "source": [
        "import strawberryfields as sf\nimport numpy as np\n\neng = sf.RemoteEngine(\"borealis\")\ndevice = eng.device"
      ]
    },
    {
      "cell_type": "markdown",
      "metadata": {},
      "source": [
        "<div class=\"alert alert-info\"><h4>Note</h4><p>If you don't have an API key, you can simply download a dummy device\n    specification and hardware certificate from `here <link-to-dummy-device-spec>`__.\n    Load these files and use them to create a ``device`` object like what is shown\n    below. This object will allow you to go through most steps of this tutorial,\n    although you won't be able to run anything on the *Borealis* hardware\n    device, nor receive any samples.\n\n    .. code::\n\n        import json\n\n        device_spec = json.load(open(\"device_specification.json\"))\n        device_cert = json.load(open(\"device_certificate.json\"))\n        device = sf.Device(spec=device_spec, cert=device_cert)</p></div>\n\n\n"
      ]
    },
    {
      "cell_type": "markdown",
      "metadata": {},
      "source": [
        "Defining a GBS circuit\n~~~~~~~~~~~~~~~~~~~~~~\n\nAs in the beginner's demo, we will define a GBS circuit that we can later\nsubmit to the hardware and/or to local simulations. Only this time, we want to\ndo it more manually, relying less on convenience functions such as\n``strawberryfields.tdm.borealis_gbs`` or\n``strawberryfields.tdm.borealis_full_compile``.\n\nWe want to run a GBS instance similar to the one in the beginner's tutorial.\nOne of the things that the helper functions in the be beginner's demo did for\nus was to match whatever squeezing value we have defined to the closest one\nsupported by the hardware. Now, we will define a supported squeezing value\nright away using the device certificate.\n\n"
      ]
    },
    {
      "cell_type": "code",
      "execution_count": null,
      "metadata": {
        "collapsed": false
      },
      "outputs": [],
      "source": [
        "modes = 216\n\nr0 = device.certificate[\"squeezing_parameters_mean\"][\"high\"]\nr = [r0] * modes"
      ]
    },
    {
      "cell_type": "markdown",
      "metadata": {},
      "source": [
        "Next, we will define our GBS circuit by randomizing the phase-gate and\nbeamsplitter arguments, very much like we did in the beginner's demo. Also, we\nwill make sure again that the loops are completely filled with computational\nmodes at the beginning of the circuit. So we will open the loops in the\ninitial time bins by setting them to $T=1$ ($\\alpha=0$).\n\n"
      ]
    },
    {
      "cell_type": "code",
      "execution_count": null,
      "metadata": {
        "collapsed": false
      },
      "outputs": [],
      "source": [
        "min_phi, max_phi = -np.pi / 2, np.pi / 2\nmin_T, max_T = 0.4, 0.6\n\n# rotation-gate parameters\nphi_0 = np.random.uniform(low=min_phi, high=max_phi, size=modes).tolist()\nphi_1 = np.random.uniform(low=min_phi, high=max_phi, size=modes).tolist()\nphi_2 = np.random.uniform(low=min_phi, high=max_phi, size=modes).tolist()\n\n# beamsplitter parameters\nT_0 = np.random.uniform(low=min_T, high=max_T, size=modes)\nT_1 = np.random.uniform(low=min_T, high=max_T, size=modes)\nT_2 = np.random.uniform(low=min_T, high=max_T, size=modes)\nalpha_0 = np.arccos(np.sqrt(T_0)).tolist()\nalpha_1 = np.arccos(np.sqrt(T_1)).tolist()\nalpha_2 = np.arccos(np.sqrt(T_2)).tolist()\n\n# the travel time per delay line in time bins\ndelay_0, delay_1, delay_2 = 1, 6, 36\n\n# set the first beamsplitter arguments to ``T=1`` (``alpha=0``) to fill the\n# loops with pulses\nalpha_0[:delay_0] = [0.0] * delay_0\nalpha_1[:delay_1] = [0.0] * delay_1\nalpha_2[:delay_2] = [0.0] * delay_2"
      ]
    },
    {
      "cell_type": "markdown",
      "metadata": {},
      "source": [
        "Now here comes a tricky part. Although these gate sequences are of length 216\n(the number of squeezed-light modes in our GBS instance) the actual\ntime-domain program needs to be longer than that. Why is that the case?\n\nWe just imposed that the first computational mode is fully coupled into the\nfirst loop. This means that it will arrive at the second loop after exactly\none time bin (i.e. one roundtrip in the first delay line). We also imposed\nthat the first mode should be completely coupled into the second loop as well,\nwhich means it will arrive at the third loop no earlier 7 time bins after the\nprogram has started (1 + 6 time bins delay). Therefore, the gates associated\nto the second and third loop need some idle time bins, awaiting the first\ncomputational mode.\n\nWe thus need to append 0-valued parameters (i.e. full transmission) to the\ngates in the first two loops. This will make sure that the non-trivial random\ngates are applied to the computational modes exclusively.\n\n\n"
      ]
    },
    {
      "cell_type": "code",
      "execution_count": null,
      "metadata": {
        "collapsed": false
      },
      "outputs": [],
      "source": [
        "# second loop needs to await the first mode for 1 time bin (delay_0 = 1)\nphi_1 = [0] * delay_0 + phi_1\nalpha_1 = [0] * delay_0 + alpha_1\n\n# second loop needs to await the first mode for 7 time bins (delay_0 + delay_1 = 1 + 6)\nphi_2 = [0] * (delay_0 + delay_1) + phi_2\nalpha_2 = [0] * (delay_0 + delay_1) + alpha_2"
      ]
    },
    {
      "cell_type": "markdown",
      "metadata": {},
      "source": [
        "Toward the end of the time-domain program, we need to make sure that all\ncomputational modes in the loops are entirely coupled out again, avoiding\ninterfering with the vacuum modes that will follow the pulse train of 216\nsqueezed-light modes. This means we need to set the beamsplitters to full\ntransmission again, and, on top of this, since all gate sequences should be of\nsame length, the gates of the first and second loop need to remain idle until\nthe very last computational mode has exited the third loop.\n\nThis requires us to add 0-valued parameters corresponding to the number of\nmodes required to exit through the current, and all coming, loop(s); i.e., 43\n(1 + 6 + 36) for the first loop, 42 (6 + 36) for the second loop, and 36 for\nthe third loop.\n\n\n"
      ]
    },
    {
      "cell_type": "code",
      "execution_count": null,
      "metadata": {
        "collapsed": false
      },
      "outputs": [],
      "source": [
        "# empty first loop (delay_0) and await the emptying of second and third loop\n# (delay_1 + delay_2)\nr += [0] * (delay_0 + delay_1 + delay_2)\nphi_0 += [0] * (delay_0 + delay_1 + delay_2)\nalpha_0 += [0] * (delay_0 + delay_1 + delay_2)\n\n# empty second loop (delay_1) and await the emptying of third loop (delay_2)\nphi_1 += [0] * (delay_1 + delay_2)\nalpha_1 += [0] * (delay_1 + delay_2)\n\n# empty third loop\nphi_2 += [0] * delay_2\nalpha_2 += [0] * delay_2"
      ]
    },
    {
      "cell_type": "markdown",
      "metadata": {},
      "source": [
        "![](/tutorials/images/borealis_vacuum_padding.png)\n\n   :width: 100%\n   :align: center\n   :target: javascript:void(0);\n\n\n"
      ]
    },
    {
      "cell_type": "markdown",
      "metadata": {},
      "source": [
        "Unfortunately, all this padding with idle time bins before and after the\nrandom gates is necessary to avoid interference of computational modes with\nvacuum. This simply reflects the reality that we need a total unitary that\nfits the size of the total input state: 216 computational modes and 43 vacuum\nmodes (1, 6, 36 of them in the first, second and third loop, respectively).\nOur total unitary thus needs to be of size 259 $\\times$ 259. Check out\nthe image above for an overview of the necessary vacuum mode padding.\n\nHowever, the reward of all precautions taken above is that the unitary that we\n*care* about is now a block matrix within the total unitary, acting on the 216\ncomputational modes exclusively. Moreover, the length of the argument lists\nsubmitted to the six quantum gates is now exactly 259, matching the size of\nthe total unitary. Let's collect all the gate sequences in one list that we\ncan submit to the ``sf.TDMProgram``. The list, aptly named ``gate_args_list``,\ncontains all gate parameters in the order in which the corresponding gates\nwill be applied.\n\n"
      ]
    },
    {
      "cell_type": "code",
      "execution_count": null,
      "metadata": {
        "collapsed": false
      },
      "outputs": [],
      "source": [
        "gate_args_list = [r, phi_0, alpha_0, phi_1, alpha_1, phi_2, alpha_2]\n\n[len(gate_args) for gate_args in (gate_args_list)]"
      ]
    },
    {
      "cell_type": "markdown",
      "metadata": {},
      "source": [
        ".. rst-class:: sphx-glr-script-out\n\n Out:\n\n .. code-block:: none\n\n   [259, 259, 259, 259, 259, 259, 259]\n\n\n"
      ]
    },
    {
      "cell_type": "markdown",
      "metadata": {},
      "source": [
        "As mentioned in the beginner's demo, each loop applies a static phase rotation\nto the modes in it. Currently, this phase rotation cannot be programmed. All\nwe can do is to *measure* this phase and take it into account whenever we run\na program on the machine. This is why the three loop offsets ``\"loop_phases\"``\nare part of the device certificate. Even though we have no direct influence on\nthem, we need to deal with them in order to obtain a correct representation of\nthe circuit that is applied. This can be done in two different ways:\n\n-  We can stay agnostic about the static offsets and use our phase modulators\n   to actively compensate for them in the background. This is done\n   automatically when the loop offsets do not occur in the ``TDMProgram``\n   submitted to the hardware. In this case, the Strawberry Fields compiler\n   will absorb the three roundtrip phases into the instructions for the phase\n   modulators such that they *effectively* apply the user-defined phase-gate\n   arguments.\n-  We include these offsets explicitly into our ``TDMProgram``. In this case,\n   no hidden compensation takes place and the modulators apply exactly the\n   phases defined by the user.\n\nWhile in the beginner's demo we went for the first option, we will go with the\nsecond option here. In other words, we will acknowledge the roundtrip phases\nas part of our circuit and will explicitly add them to our time-domain\nprogram. In order to do so, let's obtain them from the certificate.\n\n"
      ]
    },
    {
      "cell_type": "code",
      "execution_count": null,
      "metadata": {
        "collapsed": false
      },
      "outputs": [],
      "source": [
        "# the intrinsic roundtrip phase of each delay line\nphis_loop = device.certificate[\"loop_phases\"]"
      ]
    },
    {
      "cell_type": "markdown",
      "metadata": {},
      "source": [
        "Excecuting the circuit\n ~~~~~~~~~~~~~~~~~~~~~~\n\n######################################################################\n Submit to hardware\n <<<<<<<<<<<<<<<<<<\n\n From here on, we can proceed very much like we did in the beginner's demo.\n Only this time, our ``TDMProgram`` includes explicit mentions of the\n loop-roundtrip phases.\n\n"
      ]
    },
    {
      "cell_type": "code",
      "execution_count": null,
      "metadata": {
        "collapsed": false
      },
      "outputs": [],
      "source": [
        "from strawberryfields.tdm import get_mode_indices\nfrom strawberryfields.ops import Sgate, Rgate, BSgate, MeasureFock\n\ndelays = [1, 6, 36]\nvac_modes = sum(delays)\nn, N = get_mode_indices(delays)\n\nprog = sf.TDMProgram(N)\nwith prog.context(*gate_args_list) as (p, q):\n    Sgate(p[0]) | q[n[0]]\n\n    for i in range(len(delays)):\n        Rgate(p[2 * i + 1]) | q[n[i]]\n        BSgate(p[2 * i + 2], np.pi / 2) | (q[n[i + 1]], q[n[i]])\n        Rgate(phis_loop[i]) | q[n[i]]\n\n    MeasureFock() | q[0]\n\nshots = 250_000\n\neng = sf.RemoteEngine(\"borealis\")\nresults = eng.run(prog, shots=shots)"
      ]
    },
    {
      "cell_type": "markdown",
      "metadata": {},
      "source": [
        "Running the circuit remotely on *Borealis* will return a ``results`` object,\nwhich contains the samples that are obtained by the machine. The samples\nreturned by any ``sf.TDMProgram`` are of shape ``(shots, spatial_modes,\ntemporal_modes)``, so in our case whe should have gotten ``(shots, 1, 259)``.\nBut since the first 43 modes that arrived at the detectors are the vacuum\nmodes that had lived in the loop before the program started, let's crop the\nsamples array and only focus on the 216 *computational* modes. As seen in the\nbeginner's demo, the same thing can be achieved by passing ``crop=True`` to\nthe ``eng.run()`` call.\n\n"
      ]
    },
    {
      "cell_type": "code",
      "execution_count": null,
      "metadata": {
        "collapsed": false
      },
      "outputs": [],
      "source": [
        "samples = results.samples[..., 43:]"
      ]
    },
    {
      "cell_type": "markdown",
      "metadata": {},
      "source": [
        "Submit to realistic simulation <<<<<<<<<<<<<<<<<<<<<<<<<<<<<<\n\nNow, let us switch to a local simulation. In order to make it realistic, we\nwant to take optical loss into account. In the beginner's demo, realistic loss\nwas added by the compiler in the backend. Here, we want to insert the various\nloss components manually into our circuit. The daily calibration routine run\non *Borealis* decomposes the total loss suffered by our pulses into three\ncategories:\n\n- ``eta_glob``: The total loss experienced by the different modes depends on\n  which loops they have travelled through and on which detector they ended up\n  in. So it will be highly inhomogeneous within the 216 computational modes.\n  ``eta_glob``, on the other hand, describes their *common* efficiency. It is\n  experienced by a mode that bypasses all three loops and ends up in our most\n  efficient detector. In other words ``1 - eta_glob`` is the minimal loss that\n  every mode will suffer. On top of that, most modes will suffer additional\n  loss imposed by the loops and a less efficient detector.\n- ``eta_loop``: This is simply a list containing the respective efficiencies\n  of the three loop.\n- ``eta_ch_rel``: In the experiment, two consecutive pulses are only 167 ns\n  apart which exceeds the rate that one single photon-number resolving (PNR)\n  detector can handle. So although our batches of 216 squeezed-light modes\n  travel towards the detection module in one single fibre, they need to be\n  demultiplexed into 16 spatial modes, each one of them probed by its own PNR\n  detector. (You can find a schematic of our demultiplexing-and-detection\n  module illustrated in the top figure of this tutorial.) Now, instead of one\n  PNR operating at 6 MHz, we have 16 PNRs operating at 6/16 MHz. The\n  demultiplexing pattern is repetitive, meaning that detector $i$ will\n  detect all temporal modes whose index satisfies $i + 16n$ where\n  $n$ is an integer. Since the 16 spatial modes and their respective\n  detectors do not share the exact same efficiency, ``eta_ch_rel`` keeps track\n  of the loss suffered by each one of our modes individually.\n\n All of these loss components can be obtained from the ``device`` object.\n\n"
      ]
    },
    {
      "cell_type": "code",
      "execution_count": null,
      "metadata": {
        "collapsed": false
      },
      "outputs": [],
      "source": [
        "eta_glob = device.certificate[\"common_efficiency\"]\netas_loop = device.certificate[\"loop_efficiencies\"]\netas_ch_rel = device.certificate[\"relative_channel_efficiencies\"]"
      ]
    },
    {
      "cell_type": "markdown",
      "metadata": {},
      "source": [
        "Note that the detector-channel efficiencies are cyclic, so mode ``i`` sees the\nsame efficiency as mode ``i + 16``, thus necessitating us to repeat the 16\nefficiency values for the length of the program. We will also add the channel\nefficiencies to our list of gate arguments that we submit to the\n``TDMProgram``. This is because the relative detection efficiency experienced\nby the modes needs to be updated at each time bin and is therefore a dynamic\nTDM gate, very much like the phase modulators and beamsplitters.\n\n"
      ]
    },
    {
      "cell_type": "code",
      "execution_count": null,
      "metadata": {
        "collapsed": false
      },
      "outputs": [],
      "source": [
        "prog_length = len(gate_args_list[0])\nreps = int(np.ceil(prog_length / 16))\netas_ch_rel = np.tile(etas_ch_rel, reps)[:prog_length]\netas_ch_rel = etas_ch_rel.tolist()\n\ngate_args_list += [etas_ch_rel]"
      ]
    },
    {
      "cell_type": "markdown",
      "metadata": {},
      "source": [
        "With that, we are now able to redefine the circuit that we submitted to\n*Borealis* for simulations under realistic loss.\n\n"
      ]
    },
    {
      "cell_type": "code",
      "execution_count": null,
      "metadata": {
        "collapsed": false
      },
      "outputs": [],
      "source": [
        "from strawberryfields.ops import LossChannel\n\nprog_sim = sf.TDMProgram(N)\nwith prog_sim.context(*gate_args_list) as (p, q):\n    Sgate(p[0]) | q[n[0]]\n    LossChannel(eta_glob) | q[n[0]]\n\n    for i in range(len(delays)):\n        Rgate(p[2 * i + 1]) | q[n[i]]\n        BSgate(p[2 * i + 2], np.pi / 2) | (q[n[i + 1]], q[n[i]])\n        Rgate(phis_loop[i]) | q[n[i]]\n        LossChannel(etas_loop[i]) | q[n[i]]\n\n    LossChannel(p[7]) | q[0]\n    MeasureFock() | q[0]"
      ]
    },
    {
      "cell_type": "markdown",
      "metadata": {},
      "source": [
        "As we have now inserted loss explicitly to the circuit, we can skip any\n*Borealis*-specific compiling steps and submit our program directly to the\nGaussian backend.\n\n"
      ]
    },
    {
      "cell_type": "code",
      "execution_count": null,
      "metadata": {
        "collapsed": false
      },
      "outputs": [],
      "source": [
        "eng_sim = sf.Engine(backend=\"gaussian\")\nresults_sim = eng_sim.run(prog_sim, shots=None, space_unroll=True)"
      ]
    },
    {
      "cell_type": "markdown",
      "metadata": {},
      "source": [
        "The covariance matrix returned by ``results_sim.state.cov()`` describes our 216\ncomputational modes as well as the 43 vacuum modes that were stored in the\nloops before execution of the program. In the beginner's demo we made sure\nthat only the computational modes are considered in the covariance matrix by\nadding ``crop=True`` to the ``run()`` method. We could have done the same\nthing here, but instead let's crop out the vacuum modes more manually using the\npackage *The Walrus*.\n\n"
      ]
    },
    {
      "cell_type": "code",
      "execution_count": null,
      "metadata": {
        "collapsed": false
      },
      "outputs": [],
      "source": [
        "from thewalrus.quantum import reduced_gaussian\n\n# total covariance matrix and mean vector describe 259 modes\ncov_tot = results_sim.state.cov()\nmu_tot = np.zeros(len(cov_tot))\n\n# cropped covariance matrix and mean vector describe 216 modes\nmu, cov = reduced_gaussian(mu_tot, cov_tot, range(vac_modes, prog_length))"
      ]
    },
    {
      "cell_type": "markdown",
      "metadata": {},
      "source": [
        "From here you can use the methods described in the beginner's demo to compare\nyour experimental results to the ones obtained by simulation.\n\nNote that in the above ``eng_sim.run()`` call we added the flag\n``space_unroll=True``. This feature was already used and very briefly\nexplained in the beginner's demo. Here is what this feature is about: The\ncircuit above will be rolled-up, using symbolic placeholder variables for the\ngate parameters. The circuit must be unrolled with each mode only being\nmeasured once, a process we've deciced to call space-unrolling.\n\nSpace-unrolling might seem slightly confusing, but it's actually fairly\nstraight-forward. Instead of having several modes going through the same path,\nwe interpret the TDM loop interactions as spatially separate. This way, each\nmeasurement is made on a different spatial mode, as can be seen in the\nright-hand side of the image below.\n\nThe left-handside depicts how an actual single loop TDM circuit would work,\nwhile the right-hand side is how Strawberry Fields simulates it. Since each\nmode can only be measured once (i.e., modes cannot be reused when using Fock\nmeasurements, opposite to the TD2 case, which uses homodyne measurements), the\ncircuit needs to be unrolled. To get an understanding for how this\nspace-unrolling works, try to follow the interactions happening in the\nleft-hand side single-loop setup, and try to spot them in the right-hand side\ncircuit diagram. They are in practice equal!\n\n\n"
      ]
    },
    {
      "cell_type": "markdown",
      "metadata": {},
      "source": [
        "![](/tutorials/images/borealis_space_unrolling.png)\n\n   :width: 100%\n   :align: center\n   :target: javascript:void(0);\n\n\n"
      ]
    },
    {
      "cell_type": "markdown",
      "metadata": {},
      "source": [
        "Calculating the transfer matrix\n~~~~~~~~~~~~~~~~~~~~~~~~~~~~~~~\n\nThe circuit above can be described as a combination of initial state\npreparation, followed by an interferometer over the 216 modes used in the\ncircuit. This interferometer setup can be described by a so-called transfer\nmatrix. It describes the quantum circuit applied to any initial state. In the\nabsence of loss, the transfer matrix is be equivalent to the unitary. By\nhaving access to the tranfer matrix it's possible to recreate the same circuit\nusing different initial states. Instead of starting with a squeezed state, as\nwe did above, we could e.g. apply the transfer matrix to a coherent state or\nGKP states.\n\nThere is a way to quickly calculate the transfer matrix of a circuit \u2014 as\nlong as it only contains beamsplitters, rotation gates and loss channels\n\u2014 without having to execute it. This is done by using the \"passive\"\ncompiler to compile the circuit into a single transfer gate. We thus\nremove the squeezing from the circuit and simply compile the program\nusing the \"passive\" compiler, extracting the parameter from the\nrestulting ``PassiveGate``.\n\n"
      ]
    },
    {
      "cell_type": "code",
      "execution_count": null,
      "metadata": {
        "collapsed": false
      },
      "outputs": [],
      "source": [
        "prog_passive = sf.TDMProgram(N)\n\nwith prog_passive.context(*gate_args_list, etas_ch_rel) as (p, q):\n    LossChannel(eta_glob) | q[n[0]]\n\n    for i in range(len(delays)):\n        Rgate(p[2 * i + 1]) | q[n[i]]\n        BSgate(p[2 * i + 2], np.pi / 2) | (q[n[i + 1]], q[n[i]])\n        Rgate(phis_loop[i]) | q[n[i]]\n        LossChannel(etas_loop[i]) | q[n[i]]\n\n    LossChannel(p[7]) | q[0]\n\nprog_passive.space_unroll()\n\nprog_passive = prog_passive.compile(compiler=\"passive\")"
      ]
    },
    {
      "cell_type": "markdown",
      "metadata": {},
      "source": [
        "Keep in mind that the circuit now only consist of a single ``PassiveGate``,\nwhich has a single matrix parameter. This parameter is the circuits transfer\nmatrix. The transfer matrix then allows us to experiment using the same setup,\nbut with different state preparations.\n\n"
      ]
    },
    {
      "cell_type": "code",
      "execution_count": null,
      "metadata": {
        "collapsed": false
      },
      "outputs": [],
      "source": [
        "transfer_matrix_tot = prog_passive.circuit[0].op.p[0]\n\n# crop out the vacuum modes\ntransfer_matrix = transfer_matrix_tot[vac_modes:prog_length, vac_modes:prog_length]"
      ]
    },
    {
      "cell_type": "markdown",
      "metadata": {},
      "source": [
        "A matrix plot will give us a good intuition on the connectivity of our\ntemporal modes.\n\n"
      ]
    },
    {
      "cell_type": "code",
      "execution_count": null,
      "metadata": {
        "collapsed": false
      },
      "outputs": [],
      "source": [
        "import matplotlib.pyplot as plt\n\nfig, ax = plt.subplots(1, 2, figsize=(18, 8))\nax[0].matshow(transfer_matrix.real)\nax[1].matshow(transfer_matrix.imag)\nplt.show()"
      ]
    },
    {
      "cell_type": "markdown",
      "metadata": {},
      "source": [
        "![](/tutorials/images/borealis_transfer_matrix.png)\n\n   :width: 100%\n   :align: center\n   :target: javascript:void(0);\n\n\n"
      ]
    },
    {
      "cell_type": "markdown",
      "metadata": {},
      "source": [
        "Conclusion\n~~~~~~~~~~\n\nThis tutorial covered how to submit jobs to our temporal-division multiplexing\ndevice, the *Borealis*. It's rather exciting to be able to demonstrate the\nconcept of quantum-computational advantage by examples running on actual\nhardware. As you now have seen, there are quite a few details to keep track\nof, but, as long as the circuit follows the correct layout, and the parameters\nare correctly declared, anyone with Xanadu cloud access can submit jobs to be\nexcecuted on the Borealis hardware, and get back samples that would be difficult, if\nnot outright impossible, to retrieve using a local simulator.\n\nWe hope that you've enjoyed this demonstration, and that you're as excited as\nwe are about the possibilities. If you wish to dig deeper into the science\nbehind all of this, we recommend you to read our paper [[#advantage2021]_].\n\n\n"
      ]
    },
    {
      "cell_type": "markdown",
      "metadata": {},
      "source": [
        "References\n~~~~~~~~~~\n\n.. [#advantage2021]\n\n    Quantum computational advantage with a programmable photonic processor\n\n\n"
      ]
    }
  ],
  "metadata": {
    "kernelspec": {
      "display_name": "Python 3",
      "language": "python",
      "name": "python3"
    },
    "language_info": {
      "codemirror_mode": {
        "name": "ipython",
        "version": 3
      },
      "file_extension": ".py",
      "mimetype": "text/x-python",
      "name": "python",
      "nbconvert_exporter": "python",
      "pygments_lexer": "ipython3",
      "version": "3.9.10"
    }
  },
  "nbformat": 4,
  "nbformat_minor": 0
}