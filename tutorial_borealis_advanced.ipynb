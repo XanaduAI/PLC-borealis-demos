{
 "cells": [
  {
   "cell_type": "code",
   "execution_count": null,
   "metadata": {
    "collapsed": false,
    "jupyter": {
     "outputs_hidden": false
    }
   },
   "outputs": [],
   "source": [
    "%matplotlib inline"
   ]
  },
  {
   "cell_type": "markdown",
   "metadata": {},
   "source": [
    "Operating Borealis - advanced\n",
    "=============================\n",
    "\n",
    "*Authors: Fabian Laudenbach and Theodor Isacsson*\n",
    "\n",
    "<div class=\"alert alert-info\"><h4>Note</h4><p>If you're in a hurry, check out our <a href=\"./tutorial_borealis_quickstart.ipynb\">Borealis Quickstart</a>.</p></div>\n",
    "\n",
    "In the [Borealis beginner tutorial](./tutorial_borealis_beginner.ipynb) we\n",
    "described how Xanadu's quantum-advantage machine [Borealis](https://xanadu.ai/products/borealis) can be programmed in a fairly\n",
    "straightforward way, using convenience functions to make the user-defined\n",
    "circuit compatible with Borealis. In this advanced tutorial, we will again\n",
    "define and submit an instance of Gaussian Boson Sampling (GBS), but this time we\n",
    "will instead define the circuit and its parameters manually, without using any\n",
    "of the utility functions. This will allow us to better understand the subtleties\n",
    "of time-domain programs and to exercise more control over the quantum circuit we\n",
    "create. In our [Nature publication](https://xanadu.ai/qca-paper)[<sup>#advantage2022</sup>](#advantage2022)\n",
    "you can read more about how we can successfully sample GBS instances orders\n",
    "of magnitudes faster than any known classical algorithm could using exact methods.\n",
    "\n",
    "Let's have a look at the schematic below. It looks very much like the one shown\n",
    "in the beginner's tutorial, only it contains more details:\n",
    "\n",
    "- There is now a phase gate located in each of the three delay lines.\n",
    "- After the three cascaded loops, the one spatial mode branches out into a\n",
    "  binary tree of 16 spatial modes, each one terminating with a measurement by\n",
    "  its own photon-number resolving detector.\n",
    "\n",
    "![](./.imgs/borealis_schematic_advanced.png)\n",
    "\n",
    "This advanced tutorial will direct more focus on these additional details and\n",
    "help us get a more comprehensive understanding of Borealis and its gate\n",
    "arguments.\n"
   ]
  },
  {
   "cell_type": "markdown",
   "metadata": {},
   "source": [
    "## Loading the device specification\n",
    "\n",
    "We start off by importing Strawberry Fields and NumPy, and loading the\n",
    "Borealis `device <strawberryfields.Device>` object which contains relevant and up-to-date\n",
    "information about the hardware.\n"
   ]
  },
  {
   "cell_type": "code",
   "execution_count": null,
   "metadata": {
    "collapsed": false,
    "jupyter": {
     "outputs_hidden": false
    }
   },
   "outputs": [],
   "source": [
    "import strawberryfields as sf\n",
    "import numpy as np\n",
    "\n",
    "eng = sf.RemoteEngine(\"borealis\")\n",
    "device = eng.device"
   ]
  },
  {
   "cell_type": "markdown",
   "metadata": {},
   "source": [
    "## Defining a GBS circuit\n",
    "\n",
    "As in the beginner's tutorial, here we will define a GBS circuit similar to the one in the\n",
    "beginner's tutorial which we can later submit to the hardware and/or to local\n",
    "simulations. This time, we want to define the circuit and all of the gate\n",
    "parameters manually, relying less on the handy convenience functions that we\n",
    "used in the beginner's tutorial.\n",
    "\n",
    "In the beginner's tutorial matching the squeezing values to the closest one\n",
    "supported by the hardware was done behind the scenes. Here, we will instead\n",
    "do it manually by using one of the allowed squeezing values from the device\n",
    "certificate and broadcasting it over a list that is as long as the number of modes\n",
    "that we wish to use.\n",
    "\n"
   ]
  },
  {
   "cell_type": "code",
   "execution_count": null,
   "metadata": {
    "collapsed": false,
    "jupyter": {
     "outputs_hidden": false
    }
   },
   "outputs": [],
   "source": [
    "modes = 216\n",
    "\n",
    "r0 = device.certificate[\"squeezing_parameters_mean\"][\"high\"]\n",
    "r = [r0] * modes"
   ]
  },
  {
   "cell_type": "markdown",
   "metadata": {},
   "source": [
    "Next, we will define our GBS circuit by randomizing the phase-gate and\n",
    "beamsplitter arguments, very much like we did in the beginner's tutorial. We\n",
    "will also have to make sure that the loops are completely filled with computational\n",
    "modes at the beginning of the circuit by opening up the loops in the\n",
    "initial time bins by setting them to $T=1$ ($\\alpha=0$).\n",
    "\n"
   ]
  },
  {
   "cell_type": "code",
   "execution_count": null,
   "metadata": {
    "collapsed": false,
    "jupyter": {
     "outputs_hidden": false
    }
   },
   "outputs": [],
   "source": [
    "min_phi, max_phi = -np.pi / 2, np.pi / 2\n",
    "min_T, max_T = 0.4, 0.6\n",
    "\n",
    "# rotation-gate parameters\n",
    "phi_0 = np.random.uniform(low=min_phi, high=max_phi, size=modes).tolist()\n",
    "phi_1 = np.random.uniform(low=min_phi, high=max_phi, size=modes).tolist()\n",
    "phi_2 = np.random.uniform(low=min_phi, high=max_phi, size=modes).tolist()\n",
    "\n",
    "# beamsplitter parameters\n",
    "T_0 = np.random.uniform(low=min_T, high=max_T, size=modes)\n",
    "T_1 = np.random.uniform(low=min_T, high=max_T, size=modes)\n",
    "T_2 = np.random.uniform(low=min_T, high=max_T, size=modes)\n",
    "alpha_0 = np.arccos(np.sqrt(T_0)).tolist()\n",
    "alpha_1 = np.arccos(np.sqrt(T_1)).tolist()\n",
    "alpha_2 = np.arccos(np.sqrt(T_2)).tolist()\n",
    "\n",
    "# the travel time per delay line in time bins\n",
    "delay_0, delay_1, delay_2 = 1, 6, 36\n",
    "\n",
    "# set the first beamsplitter arguments to `T=1` (`alpha=0`) to fill the\n",
    "# loops with pulses\n",
    "alpha_0[:delay_0] = [0.0] * delay_0\n",
    "alpha_1[:delay_1] = [0.0] * delay_1\n",
    "alpha_2[:delay_2] = [0.0] * delay_2"
   ]
  },
  {
   "cell_type": "markdown",
   "metadata": {},
   "source": [
    "Here comes a tricky part. Although these gate sequences are of length 216\n",
    "(the number of squeezed-light modes in our GBS instance) the actual\n",
    "time-domain program needs to be longer than that. Why is that the case?\n",
    "\n",
    "We just imposed that the first computational mode is fully coupled into the\n",
    "first loop. This means that it will arrive at the second loop after exactly\n",
    "one time bin (i.e. one roundtrip in the first delay line). We also imposed\n",
    "that the first mode should be completely coupled into the second loop,\n",
    "which means it will arrive at the third loop no earlier than 7 time bins after the\n",
    "program has started (1 + 6 time bins delay). Therefore, the gates associated\n",
    "to the second and third loop need some idle time bins, awaiting the first\n",
    "computational mode.\n",
    "\n",
    "To do this, we need to append 0-valued parameters (i.e. full transmission) to the\n",
    "gates in the first two loops. This will make sure that the non-trivial random\n",
    "gates are applied to the computational modes exclusively.\n",
    "\n",
    "\n"
   ]
  },
  {
   "cell_type": "code",
   "execution_count": null,
   "metadata": {
    "collapsed": false,
    "jupyter": {
     "outputs_hidden": false
    }
   },
   "outputs": [],
   "source": [
    "# second loop needs to await the first mode for 1 time bin (delay_0 = 1)\n",
    "phi_1 = [0] * delay_0 + phi_1\n",
    "alpha_1 = [0] * delay_0 + alpha_1\n",
    "\n",
    "# second loop needs to await the first mode for 7 time bins (delay_0 + delay_1 = 1 + 6)\n",
    "phi_2 = [0] * (delay_0 + delay_1) + phi_2\n",
    "alpha_2 = [0] * (delay_0 + delay_1) + alpha_2"
   ]
  },
  {
   "cell_type": "markdown",
   "metadata": {},
   "source": [
    "Toward the end of the time-domain circuit, we need to make sure that all\n",
    "computational modes in the loops are entirely coupled out again, avoiding\n",
    "interfering with the vacuum modes that will follow the pulse train of 216\n",
    "squeezed-light modes. This means that we need to set the beamsplitters to full\n",
    "transmission again, and, since all gate sequences should have the\n",
    "same length, the gates of the first and second loops need to remain idle until\n",
    "the very last computational mode has exited the third loop.\n",
    "\n",
    "This requires us to add 0-valued parameters corresponding to the number of\n",
    "modes required to exit through the current and all following loops; i.e., 43\n",
    "(1 + 6 + 36) for the first loop, 42 (6 + 36) for the second loop, and 36 for\n",
    "the third loop.\n",
    "\n",
    "\n"
   ]
  },
  {
   "cell_type": "code",
   "execution_count": null,
   "metadata": {
    "collapsed": false,
    "jupyter": {
     "outputs_hidden": false
    }
   },
   "outputs": [],
   "source": [
    "# empty first loop (delay_0) and await the emptying of second and third loop\n",
    "# (delay_1 + delay_2)\n",
    "r += [0] * (delay_0 + delay_1 + delay_2)\n",
    "phi_0 += [0] * (delay_0 + delay_1 + delay_2)\n",
    "alpha_0 += [0] * (delay_0 + delay_1 + delay_2)\n",
    "\n",
    "# empty second loop (delay_1) and await the emptying of third loop (delay_2)\n",
    "phi_1 += [0] * (delay_1 + delay_2)\n",
    "alpha_1 += [0] * (delay_1 + delay_2)\n",
    "\n",
    "# empty third loop\n",
    "phi_2 += [0] * delay_2\n",
    "alpha_2 += [0] * delay_2"
   ]
  },
  {
   "cell_type": "markdown",
   "metadata": {},
   "source": [
    "Unfortunately, all of this padding with idle time bins before and after the\n",
    "random gates is necessary to avoid interfering computational modes with\n",
    "vacuum modes. This simply reflects the reality that we need a total unitary that\n",
    "fits the size of the total input state: 216 computational modes and 43 vacuum\n",
    "modes (1, 6, 36 of them in the first, second, and third loop, respectively).\n",
    "Our total unitary thus needs to be of size 259 $\\times$ 259.\n",
    "\n",
    "The image below provides an overview of the necessary vacuum mode padding for\n",
    "all the three loops, where each row corresponds to a gate parameter array with\n",
    "length 259.\n",
    "\n",
    "\n"
   ]
  },
  {
   "cell_type": "markdown",
   "metadata": {},
   "source": [
    "![](./.imgs/borealis_padding.png)\n"
   ]
  },
  {
   "cell_type": "markdown",
   "metadata": {},
   "source": [
    "The reward for taking all of these precautions is that the unitary that we\n",
    "desire to implement is now a block matrix within the total unitary, acting on the 216\n",
    "computational modes exclusively. Moreover, the length of the argument lists\n",
    "submitted to the seven quantum gates is now exactly 259, matching the size of\n",
    "the total unitary. Let's collect all of the gate sequences in a single nested list that we\n",
    "can submit to the :class:`TDMProgram <strawberryfields.TDMProgram>`. The list, aptly named ``gate_args_list``,\n",
    "contains all gate parameters in the order in which the corresponding gates\n",
    "will be applied.\n",
    "\n"
   ]
  },
  {
   "cell_type": "code",
   "execution_count": null,
   "metadata": {
    "collapsed": false,
    "jupyter": {
     "outputs_hidden": false
    }
   },
   "outputs": [],
   "source": [
    "gate_args_list = [r, phi_0, alpha_0, phi_1, alpha_1, phi_2, alpha_2]\n",
    "\n",
    "[len(gate_args) for gate_args in (gate_args_list)]"
   ]
  },
  {
   "cell_type": "markdown",
   "metadata": {},
   "source": [
    "As mentioned in the beginner's tutorial, each loop applies a static phase rotation\n",
    "to the modes passing through it. Currently, this phase rotation cannot be programmed. All\n",
    "we can do is to *measure* this phase and take it into account whenever we run\n",
    "a program on the hardware. This is why the three loop offsets ``\"loop_phases\"``\n",
    "are part of the device certificate. Even though we have no direct control over\n",
    "them, we need to deal with them in order to obtain a correct representation of\n",
    "the circuit that is applied. This can be done in two different ways:\n",
    "\n",
    "-  We include these offsets explicitly into our :class:`TDMProgram <strawberryfields.TDMProgram>`. In this case,\n",
    "   no hidden compensation takes place and the modulators apply the exact\n",
    "   phases defined by the user.\n",
    "\n",
    "-  We can stay agnostic about the static offsets and use our phase modulators\n",
    "   to actively compensate for them in the background. This is done\n",
    "   automatically when the loop offsets are not found in the :class:`TDMProgram <strawberryfields.TDMProgram>`\n",
    "   during compilation. In this case, the Strawberry Fields compiler\n",
    "   will absorb the three roundtrip phases into the instructions for the phase\n",
    "   modulators such that they *effectively* apply the user-defined phase-gate\n",
    "   arguments. There is a caveat to this approach though, since ~50% of all the\n",
    "   loop offsets *cannot* be compensated for due to the limited range of our\n",
    "   phase modulators. In these cases, those phases are shifted by pi.\n",
    "\n",
    "While in the beginner's tutorial we went for the second option, we will go with the\n",
    "first option this time. In other words, we will acknowledge the roundtrip phases\n",
    "as part of our circuit and will explicitly add them to our time-domain\n",
    "program. In order to do so, let's first obtain them from the certificate.\n",
    "\n"
   ]
  },
  {
   "cell_type": "code",
   "execution_count": null,
   "metadata": {
    "collapsed": false,
    "jupyter": {
     "outputs_hidden": false
    }
   },
   "outputs": [],
   "source": [
    "# the intrinsic roundtrip phase of each delay line\n",
    "phis_loop = device.certificate[\"loop_phases\"]"
   ]
  },
  {
   "cell_type": "markdown",
   "metadata": {},
   "source": [
    "## Executing the circuit\n",
    "\n",
    "### Submit to hardware\n",
    "\n",
    "From here on, we can proceed very much like we did in the beginner's tutorial.\n",
    "Only this time, our :class:`TDMProgram <strawberryfields.TDMProgram>` explicitly includes rotation-gates with the\n",
    "loop-roundtrip phase shifts applied. The results retrieved from running this program on\n",
    "the Borealis device will essentially be the same (albeit with differently randomized\n",
    "parameters) as with the program we ran in the beginner's tutorial, except for the lack of automatic\n",
    "cropping, which we will do manually instead.\n",
    "\n"
   ]
  },
  {
   "cell_type": "code",
   "execution_count": null,
   "metadata": {
    "collapsed": false,
    "jupyter": {
     "outputs_hidden": false
    }
   },
   "outputs": [],
   "source": [
    "from strawberryfields.tdm import get_mode_indices\n",
    "from strawberryfields.ops import Sgate, Rgate, BSgate, MeasureFock\n",
    "\n",
    "delays = [1, 6, 36]\n",
    "vac_modes = sum(delays)\n",
    "n, N = get_mode_indices(delays)\n",
    "\n",
    "prog = sf.TDMProgram(N)\n",
    "with prog.context(*gate_args_list) as (p, q):\n",
    "    Sgate(p[0]) | q[n[0]]\n",
    "\n",
    "    for i in range(len(delays)):\n",
    "        Rgate(p[2 * i + 1]) | q[n[i]]\n",
    "        BSgate(p[2 * i + 2], np.pi / 2) | (q[n[i + 1]], q[n[i]])\n",
    "        Rgate(phis_loop[i]) | q[n[i]]\n",
    "\n",
    "    MeasureFock() | q[0]\n",
    "\n",
    "shots = 250_000\n",
    "\n",
    "eng = sf.RemoteEngine(\"borealis\")\n",
    "results = eng.run(prog, shots=shots)"
   ]
  },
  {
   "cell_type": "markdown",
   "metadata": {},
   "source": [
    "Running the circuit remotely on Borealis will return a `Result <strawberryfields.Result>` object,\n",
    "which contains the samples that are obtained by the hardware. The samples\n",
    "returned by any `TDMProgram <strawberryfields.TDMProgram>` are of shape ``(shots, spatial_modes,\n",
    "temporal_modes)``, so in our case whe should get a three-dimensional array\n",
    "with shape ``(shots, 1, 259)``.\n",
    "\n",
    "Since the first 43 modes that arrived at the detectors are vacuum\n",
    "modes that live inside the loops before the program starts, we can crop the\n",
    "samples array and focus on the 216 *computational* modes. Recall from the beginner's\n",
    "tutorial that this can also be achieved by passing the ``crop=True`` flag to\n",
    "the `eng.run() <strawberryfields.Engine.run>` call above.\n",
    "\n"
   ]
  },
  {
   "cell_type": "code",
   "execution_count": null,
   "metadata": {
    "collapsed": false,
    "jupyter": {
     "outputs_hidden": false
    }
   },
   "outputs": [],
   "source": [
    "samples = results.samples[..., 43:]"
   ]
  },
  {
   "cell_type": "markdown",
   "metadata": {},
   "source": [
    "## Submit to realistic simulation\n",
    "\n",
    "Now, let us switch to a local simulation. In order to make it more realistic, we\n",
    "need to take optical loss into account. In the beginner's tutorial, realistic loss\n",
    "was added automatically by the compiler in the backend. Here, we instead want to insert the various\n",
    "loss components manually into our circuit. The daily calibration routine that\n",
    "runs on Borealis decomposes the total loss suffered by our pulses into three\n",
    "categories:\n",
    "\n",
    "- ``eta_glob``: The total loss experienced by the different modes depends on\n",
    "  which loops they have travelled through and in which detector they ended up.\n",
    "  So it will be highly inhomogeneous within the 216 computational modes.\n",
    "  ``eta_glob``, on the other hand, describes their *common* efficiency. It is\n",
    "  experienced by a mode that bypasses all three loops and ends up in our most\n",
    "  efficient detector. In other words ``1 - eta_glob`` is the minimal loss that\n",
    "  every mode will suffer. On top of that, most modes will suffer additional\n",
    "  losses imposed by the loops and a less efficient detector.\n",
    "- ``eta_loop``: Each loop will add an additional loss to each mode that passes through it.\n",
    "  ``eta_loop`` is a list containing the respective efficiencies of the three loops.\n",
    "- ``eta_ch_rel``: In the experiment, two consecutive pulses are only 167 ns\n",
    "  apart, which exceeds the rate that one single photon-number resolving (PNR)\n",
    "  detector can presently handle. So although our batches of 216 squeezed-light modes\n",
    "  travel towards the detection module in one single fibre, they need to be\n",
    "  demultiplexed into 16 spatial modes, each one of them probed by its own PNR\n",
    "  detector. You can find a schematic of our demultiplexing-and-detection\n",
    "  module illustrated in the top figure of this tutorial.\n",
    "\n",
    "We have 16 PNRs operating at 6/16 MHz. The demultiplexing pattern is\n",
    "repetitive, meaning that detector $i$ will detect all temporal modes\n",
    "whose index satisfies $i + 16n$, where $n$ is an integer. Since\n",
    "the 16 spatial modes and their respective detectors do not share the exact\n",
    "same efficiency, ``eta_ch_rel`` keeps track of the loss suffered by each one\n",
    "of our modes individually.\n",
    "\n",
    "All of these loss components can be obtained from the `device <strawberryfields.Device>` object.\n",
    "\n"
   ]
  },
  {
   "cell_type": "code",
   "execution_count": null,
   "metadata": {
    "collapsed": false,
    "jupyter": {
     "outputs_hidden": false
    }
   },
   "outputs": [],
   "source": [
    "eta_glob = device.certificate[\"common_efficiency\"]\n",
    "etas_loop = device.certificate[\"loop_efficiencies\"]\n",
    "etas_ch_rel = device.certificate[\"relative_channel_efficiencies\"]"
   ]
  },
  {
   "cell_type": "markdown",
   "metadata": {},
   "source": [
    "Note that the detector-channel efficiencies are cyclic, so mode ``i`` sees the\n",
    "same efficiency as mode ``i + 16``, thus necessitating us to repeat the 16\n",
    "efficiency values for the length of the program. We will also add the channel\n",
    "efficiencies to our list of gate arguments that we submit to the\n",
    "`TDMProgram <strawberryfields.TDMProgram>`. This is because the relative detection efficiency experienced\n",
    "by the modes needs to be updated at each time bin and is therefore a dynamic\n",
    "TDM gate, very much like the phase modulators and beamsplitters.\n",
    "\n"
   ]
  },
  {
   "cell_type": "code",
   "execution_count": null,
   "metadata": {
    "collapsed": false,
    "jupyter": {
     "outputs_hidden": false
    }
   },
   "outputs": [],
   "source": [
    "prog_length = len(gate_args_list[0])\n",
    "reps = int(np.ceil(prog_length / 16))\n",
    "etas_ch_rel = np.tile(etas_ch_rel, reps)[:prog_length]\n",
    "etas_ch_rel = etas_ch_rel.tolist()\n",
    "\n",
    "gate_args_list += [etas_ch_rel]"
   ]
  },
  {
   "cell_type": "markdown",
   "metadata": {},
   "source": [
    "With that, we are now able to redefine the circuit that we submitted to\n",
    "Borealis for simulations under realistic losses.\n",
    "\n"
   ]
  },
  {
   "cell_type": "code",
   "execution_count": null,
   "metadata": {
    "collapsed": false,
    "jupyter": {
     "outputs_hidden": false
    }
   },
   "outputs": [],
   "source": [
    "from strawberryfields.ops import LossChannel\n",
    "\n",
    "prog_sim = sf.TDMProgram(N)\n",
    "with prog_sim.context(*gate_args_list) as (p, q):\n",
    "    Sgate(p[0]) | q[n[0]]\n",
    "    LossChannel(eta_glob) | q[n[0]]\n",
    "\n",
    "    for i in range(len(delays)):\n",
    "        Rgate(p[2 * i + 1]) | q[n[i]]\n",
    "        BSgate(p[2 * i + 2], np.pi / 2) | (q[n[i + 1]], q[n[i]])\n",
    "        Rgate(phis_loop[i]) | q[n[i]]\n",
    "        LossChannel(etas_loop[i]) | q[n[i]]\n",
    "\n",
    "    LossChannel(p[7]) | q[0]\n",
    "    MeasureFock() | q[0]"
   ]
  },
  {
   "cell_type": "markdown",
   "metadata": {},
   "source": [
    "As we have now inserted loss explicitly to the circuit, we can skip any\n",
    "Borealis-specific compiling steps and submit our program directly to the\n",
    "Gaussian backend.\n",
    "\n"
   ]
  },
  {
   "cell_type": "code",
   "execution_count": null,
   "metadata": {
    "collapsed": false,
    "jupyter": {
     "outputs_hidden": false
    }
   },
   "outputs": [],
   "source": [
    "eng_sim = sf.Engine(backend=\"gaussian\")\n",
    "results_sim = eng_sim.run(prog_sim, shots=None, space_unroll=True)"
   ]
  },
  {
   "cell_type": "markdown",
   "metadata": {},
   "source": [
    "The covariance matrix returned by `results_sim.state.cov() <strawberryfields.backends.BaseGaussianState.cov>` describes our 216\n",
    "computational modes as well as the 43 vacuum modes that were stored in the\n",
    "loops before executing the program. In the beginner's tutorial, we made sure\n",
    "that only the computational modes are considered in the covariance matrix by\n",
    "adding ``crop=True`` to the `run() <strawberryfields.Engine.run>` method. We could have done the same\n",
    "thing here, but instead let's crop out the vacuum modes manually using the\n",
    "package *The Walrus*.\n",
    "\n"
   ]
  },
  {
   "cell_type": "code",
   "execution_count": null,
   "metadata": {
    "collapsed": false,
    "jupyter": {
     "outputs_hidden": false
    }
   },
   "outputs": [],
   "source": [
    "from thewalrus.quantum import reduced_gaussian\n",
    "\n",
    "# total covariance matrix and mean vector describe 259 modes\n",
    "cov_tot = results_sim.state.cov()\n",
    "mu_tot = np.zeros(len(cov_tot))\n",
    "\n",
    "# cropped covariance matrix and mean vector describe 216 modes\n",
    "mu, cov = reduced_gaussian(mu_tot, cov_tot, range(vac_modes, prog_length))"
   ]
  },
  {
   "cell_type": "markdown",
   "metadata": {},
   "source": [
    "From here you can use the methods described in the beginner's tutorial to compare\n",
    "your experimental results to the ones obtained by the simulation.\n",
    "\n",
    "Note that in the above `eng_sim.run() <strawberryfields.Engine.run>` call we added the flag\n",
    "``space_unroll=True``. This feature was already used and very briefly\n",
    "explained in the beginner's tutorial. Let's go into more details here. The\n",
    "circuit above will be rolled-up, using symbolic placeholder variables for the\n",
    "gate parameters. The circuit must be unrolled with each mode only being\n",
    "measured once, a process we call *space-unrolling*.\n",
    "\n",
    "Space-unrolling might seem slightly confusing, but there is a straight-forward\n",
    "way to understand it. Instead of having several modes going through the same path,\n",
    "we interpret the TDM loop interactions as spatially separate. This way, each\n",
    "measurement is made on a different spatial mode, as can be seen in the\n",
    "right-hand side of the image below.\n",
    "\n",
    "The left-hand side depicts how an actual single loop TDM circuit would work,\n",
    "while the right-hand side is how Strawberry Fields simulates it. Since each\n",
    "mode can only be measured once (i.e., modes cannot be reused when using Fock\n",
    "measurements, opposite to the [Entanglement Synthesizer](https://xanadu.ai/products/entanglement-synthesizer/)\n",
    ", which uses homodyne measurements), the circuit needs to be unrolled. To get\n",
    "an understanding for how this space-unrolling works, try to follow the\n",
    "interactions happening in the left-hand side single-loop setup, and try to\n",
    "spot them in the right-hand side circuit diagram. They are equal in practice!\n",
    "\n",
    "\n"
   ]
  },
  {
   "cell_type": "markdown",
   "metadata": {},
   "source": [
    "![](./.imgs/borealis_space_unrolling.png)\n"
   ]
  },
  {
   "cell_type": "markdown",
   "metadata": {},
   "source": [
    "### Calculating the transfer matrix\n",
    "\n",
    "The circuit above can be described as a combination of initial state\n",
    "preparation and an interferometer over the 216 modes used in the\n",
    "circuit. This interferometer setup can be described by a so-called transfer\n",
    "matrix. It describes the quantum circuit applied to any initial state. In the\n",
    "absence of loss, the transfer matrix is equivalent to the unitary. By\n",
    "having access to the tranfer matrix, it's possible to recreate the same circuit\n",
    "using different initial states. Instead of starting with a squeezed state, as\n",
    "we did above, we could, for example, apply the transfer matrix to a coherent state or\n",
    "GKP states.\n",
    "\n",
    "There is a way to quickly calculate the transfer matrix of a circuit — as\n",
    "long as it only contains beamsplitters, rotation gates and loss channels\n",
    "— without having to execute it. This is done by using the \"passive\"\n",
    "compiler to compile the circuit into a single transfer gate. Thus, we\n",
    "remove the squeezing from the circuit and simply compile the program\n",
    "using the \"passive\" compiler, extracting the parameter from the\n",
    "resulting `PassiveChannel <strawberryfields.ops.PassiveChannel>`.\n",
    "\n"
   ]
  },
  {
   "cell_type": "code",
   "execution_count": null,
   "metadata": {
    "collapsed": false,
    "jupyter": {
     "outputs_hidden": false
    }
   },
   "outputs": [],
   "source": [
    "prog_passive = sf.TDMProgram(N)\n",
    "\n",
    "with prog_passive.context(*gate_args_list, etas_ch_rel) as (p, q):\n",
    "    LossChannel(eta_glob) | q[n[0]]\n",
    "\n",
    "    for i in range(len(delays)):\n",
    "        Rgate(p[2 * i + 1]) | q[n[i]]\n",
    "        BSgate(p[2 * i + 2], np.pi / 2) | (q[n[i + 1]], q[n[i]])\n",
    "        Rgate(phis_loop[i]) | q[n[i]]\n",
    "        LossChannel(etas_loop[i]) | q[n[i]]\n",
    "\n",
    "    LossChannel(p[7]) | q[0]\n",
    "\n",
    "prog_passive.space_unroll()\n",
    "\n",
    "prog_passive = prog_passive.compile(compiler=\"passive\")"
   ]
  },
  {
   "cell_type": "markdown",
   "metadata": {},
   "source": [
    "Keep in mind that the circuit now only consists of a single `PassiveChannel <strawberryfields.ops.PassiveChannel>`,\n",
    "which has a single matrix parameter. This parameter is the circuit's transfer\n",
    "matrix. The transfer matrix then allows us to experiment using the same setup,\n",
    "but with different state preparations.\n",
    "\n"
   ]
  },
  {
   "cell_type": "code",
   "execution_count": null,
   "metadata": {
    "collapsed": false,
    "jupyter": {
     "outputs_hidden": false
    }
   },
   "outputs": [],
   "source": [
    "transfer_matrix_tot = prog_passive.circuit[0].op.p[0]\n",
    "\n",
    "# crop out the vacuum modes\n",
    "transfer_matrix = transfer_matrix_tot[vac_modes:prog_length, vac_modes:prog_length]"
   ]
  },
  {
   "cell_type": "markdown",
   "metadata": {},
   "source": [
    "A matrix plot will give us a good intuition on the connectivity of our\n",
    "temporal modes.\n",
    "\n"
   ]
  },
  {
   "cell_type": "code",
   "execution_count": null,
   "metadata": {
    "collapsed": false,
    "jupyter": {
     "outputs_hidden": false
    }
   },
   "outputs": [],
   "source": [
    "import matplotlib.pyplot as plt\n",
    "\n",
    "fig, ax = plt.subplots(1, 2, figsize=(18, 8))\n",
    "ax[0].matshow(transfer_matrix.real)\n",
    "ax[1].matshow(transfer_matrix.imag)\n",
    "plt.show()"
   ]
  },
  {
   "cell_type": "markdown",
   "metadata": {},
   "source": [
    "![](./.imgs/borealis_transfer_matrix.png)"
   ]
  },
  {
   "cell_type": "markdown",
   "metadata": {},
   "source": [
    "### Conclusion\n",
    "\n",
    "This tutorial covered how to submit jobs to our temporal-division multiplexing\n",
    "device, Borealis. It's rather exciting to be able to demonstrate the\n",
    "concept of quantum computational advantage by examples running on actual\n",
    "hardware. As you now have seen, there are quite a few details to keep track\n",
    "of, but as long as the circuit follows the correct layout and the parameters\n",
    "are correctly declared, anyone with Xanadu cloud access can submit jobs to be\n",
    "excecuted on the Borealis hardware, and get back samples that would be difficult, if\n",
    "not outright impossible, to retrieve using a local simulator.\n",
    "\n",
    "We hope that you've enjoyed this demonstration, and that you're as excited as\n",
    "we are about the possibilities. If you wish to dig deeper into the science\n",
    "behind all of this, we recommend that you read our paper[<sup>#advantage2022</sup>](#advantage2022).\n",
    "\n",
    "\n"
   ]
  },
  {
   "cell_type": "markdown",
   "metadata": {},
   "source": [
    "<h2>References</h2>\n",
    "\n",
    "\n",
    "<span id=\"advantage2022\">[advantage2022]</span>: <i>Madsen, L.S., Laudenbach, F., Askarani, M.F. et al.</i> \"Quantum computational advantage with a programmable photonic processor\", <a href=\"https://www.nature.com/articles/s41586-022-04725-x\">Nature 606, 75-81</a>, 2022\n"
   ]
  },
  {
   "cell_type": "markdown",
   "metadata": {
    "tags": []
   },
   "source": [
    "About the authors\n",
    "-----------------\n",
    "<div class=\"bio\" style=\"display: flex\">\n",
    "    <div class=\"photo\" style=\"max-width: 60px; margin-right: 1em;\">\n",
    "        <img class=\"photo__img\" src=\"./.imgs/Theodor.jpg\" alt=\"Theodor Isacsson\" style=\"width: 100%; border-radius: 50%;\">\n",
    "    </div>\n",
    "    <div class=\"bio-text\">\n",
    "        <h4 class=\"bio-text__author-name\" style=\"margin-top: 0; margin-bottom: 0; font-weight: bold;\">Theodor Isacsson</h4>\n",
    "        <p class=\"bio-text__author-description\" style=\"margin-top: 1em;\">Theodor is a quantum software developer at Xanadu. He works on the\n",
    "            photonics software stack, leading the efforts to expand and maintain packages such as Strawberry Fields and\n",
    "            The Walrus.</p>\n",
    "    </div>\n",
    "</div>\n",
    "<div class=\"bio\" style=\"display: flex\">\n",
    "    <div class=\"photo\" style=\"max-width: 60px; margin-right: 1em;\">\n",
    "        <img class=\"photo__img\" src=\"./.imgs/Fabian.png\" alt=\"Fabian Laudenbach\" style=\"width: 100%; border-radius: 50%;\">\n",
    "    </div>\n",
    "    <div class=\"bio-text\">\n",
    "        <h4 class=\"bio-text__author-name\" style=\"margin-top: 0; margin-bottom: 0; font-weight: bold;\">Fabian Laudenbach</h4>\n",
    "        <p class=\"bio-text__author-description\" style=\"margin-top: 1em;\">Fabian is an Experimental Physicist at Xanadu. He is one of the lead\n",
    "            authors of the publication showcasing quantum advantage with Borealis.</p>\n",
    "    </div>\n",
    "</div>"
   ]
  }
 ],
 "metadata": {
  "kernelspec": {
   "display_name": "PennyLane",
   "language": "python",
   "name": "pennylane"
  },
  "language_info": {
   "codemirror_mode": {
    "name": "ipython",
    "version": 3
   },
   "file_extension": ".py",
   "mimetype": "text/x-python",
   "name": "python",
   "nbconvert_exporter": "python",
   "pygments_lexer": "ipython3",
   "version": "3.9.12"
  }
 },
 "nbformat": 4,
 "nbformat_minor": 4
}
