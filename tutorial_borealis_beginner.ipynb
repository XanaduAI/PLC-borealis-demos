{
  "cells": [
    {
      "cell_type": "code",
      "execution_count": null,
      "metadata": {
        "collapsed": false
      },
      "outputs": [],
      "source": [
        "# This cell is added by sphinx-gallery\n# It can be customized to whatever you like\n%matplotlib inline"
      ]
    },
    {
      "cell_type": "markdown",
      "metadata": {},
      "source": [
        "\nOperating Borealis -- beginner tutorial\n=======================================\n\n*Authors: Fabian Laudenbach and Theodor Isacsson*\n\n.. related::\n\n    run_advanced_time_domain Advanced time-domain photonic circuits\n    run_time_domain Time-domain photonic circuits\n\nThe demonstration of quantum-computational advantage (i.e., the ability of a\nquantum processor to accomplish a task exponentially faster than any super\ncomputer could) is considered an important milestone towards useful quantum\ncomputers. One task that is proven to be computationally hard is sampling the\nphoton numbers of multimode squeezed states that have travelled through a\nnon-trivial interferometer --- a problem which is referred to as Gaussian Boson\nSampling (GBS). In our publication [[#advantage2022]_], we showcase a\nprogrammable loop interferometer that can successfully sample GBS instances orders\nof magnitudes faster than any known classical algorithm could. The experiment is\nbased on temporal-division multiplexing (TDM) --- also known as time-domain\nmultiplexing --- which allows for a comparatively simple experimental setup in\nwhich the number of optical parts and devices is independent from the number of\noptical modes. A single squeezed-light source emits batches of 216 time-ordered\nsqueezed-light pulses. These pulses interfere with one another with the help\nof optical delay lines (acting as memory buffers), programmable beamsplitters,\nand phase shifters. A simple schematic of the setup can be seen below.\n\n![](/tutorials/images/borealis_schematic_simple.png)\n\n   :width: 100%\n   :align: center\n   :target: javascript:void(0);\n\nThe architecture of our GBS machine -- which we call *Borealis* -- is layed out\nas follows. A squeezed-light source injects pulse trains of 216 modes,\ntemporally spaced by $\\tau = 167~\\text{ns}$, into the interferometer which\nconsists of three delay loops that are individually characterized by the\nroundtrip time it takes a mode to travel trough it. The first, second,\nand third delay loops have a roundtrip time of $1 \\tau$, $6 \\tau$,\nand $36 \\tau$, respectively. Each loop is associated with two programmable\nGaussian gates; a rotation gate right before the loop and a variable\nbeamsplitter that interferes modes approaching the loop with modes coming from\n*within* the loop.\n\nIn this tutorial, we will discuss how a GBS circuit on *Borealis* can be\nprogrammed using the ``strawberryfields.TDMProgram`` class. This class allows us\nto define and run time-multiplexed photonic circuits in a very efficient way,\neven if these circuits include large numbers of modes. For more background on\nthe ``TDMProgram``, please refer to the `beginner\n<https://strawberryfields.ai/photonics/demos/run_time_domain.html>`_ and\n`advanced\n<https://strawberryfields.ai/photonics/demos/run_advanced_time_domain.html>`_\ntutorials on time-domain photonic circuits.\n\nAfter defining our GBS circuit, we can either submit the program to the\nhardware, run a simulation or do both.\n"
      ]
    },
    {
      "cell_type": "markdown",
      "metadata": {},
      "source": [
        "<div class=\"alert alert-info\"><h4>Note</h4><p>This demo is about remotely submitting jobs to our quantum-advantage device\n   *Borealis*. In order to communicate with our hardware, users need to obtain and\n   set up an API key. Instructions can be found under `this link\n   <https://strawberryfields.ai/photonics/demos/tutorial_X8.html#configuring-your-credentials>`_.\n   Users who do *not* have an API key can still go through this demo, create a GBS\n   program (or any other time-domain program) and submit it to local simulators.</p></div>\n\n\n"
      ]
    },
    {
      "cell_type": "markdown",
      "metadata": {},
      "source": [
        "Loading the device specification\n~~~~~~~~~~~~~~~~~~~~~~~~~~~~~~~~\n\nTo start off, we import Strawberry Fields along with NumPy, which we will need\nlater on. We then need to load the ``device`` object which contains relevant\nand up-to-date information about *Borealis*. It includes two dictionaries: the\ndevice specification (*Borealis* uptime, allowed circuit layout, allowed gate\nparameters) and the device certificate (most recent calibration results).\n\nIf you have an API key, you can retrieve the device from the platform upon\nconnecting to *Borealis* by calling the ``eng.device`` property on the\n``RemoteEngine`` object.\n\n"
      ]
    },
    {
      "cell_type": "code",
      "execution_count": null,
      "metadata": {
        "collapsed": false
      },
      "outputs": [],
      "source": [
        "import strawberryfields as sf\nimport numpy as np\n\neng = sf.RemoteEngine(\"borealis\")\ndevice = eng.device"
      ]
    },
    {
      "cell_type": "markdown",
      "metadata": {},
      "source": [
        "<div class=\"alert alert-info\"><h4>Note</h4><p>If you don't have an API key, you can simply download a dummy device\n    specification and hardware certificate from `here <link-to-dummy-device-spec>`__.\n    Load these files and use them to create a ``device`` object like what is shown\n    below. This object will allow you to go through most steps of this tutorial,\n    although you won't be able to run anything on the *Borealis* hardware\n    device, nor receive any samples.\n\n    .. code::\n\n        import json\n\n        device_spec = json.load(open(\"device_specification.json\"))\n        device_cert = json.load(open(\"device_certificate.json\"))\n        device = sf.Device(spec=device_spec, cert=device_cert)</p></div>\n\n\n"
      ]
    },
    {
      "cell_type": "markdown",
      "metadata": {},
      "source": [
        "The ``device`` allows us to make your TDM circuit compatible with our hardware.\nThis is why it is passed to some of the functions defined below. In\nparticular, these functions need to access the latest calibration results\nwhich you can view yourself in the device certificate.\n\n"
      ]
    },
    {
      "cell_type": "code",
      "execution_count": null,
      "metadata": {
        "collapsed": false
      },
      "outputs": [],
      "source": [
        "device.certificate"
      ]
    },
    {
      "cell_type": "markdown",
      "metadata": {},
      "source": [
        ".. rst-class:: sphx-glr-script-out\n\n Out:\n\n .. code-block:: none\n\n    {'target': 'borealis',\n     'finished_at': '2022-02-03T15:00:59.641616+00:00',\n     'loop_phases': [1.152879589175, 0.11206830152785541, 0.11536286371687687],\n     'schmidt_number': 1.333,\n     'common_efficiency': 0.55,\n     'loop_efficiencies': [0.9, 0.8, 0.7],\n     'squeezing_parameters': {'low': [0.1, 0.2],\n      'high': [0.5, 0.6],\n      'medium': [0.3, 0.4]},\n     'squeezing_parameters_mean': {'low': 0.15, 'high': 0.55, 'medium': 0.35},\n     'relative_channel_efficiencies': [0.9760864135902831,\n      0.9349208774920508,\n      0.9679363368464037,\n      1.0,\n      0.9213478301107771,\n      0.8535360991364175,\n      0.9192115542773711,\n      0.9397792072864166,\n      0.8779846544496547,\n      0.9425385762064876,\n      0.9194382104862655,\n      0.9871239229019482,\n      0.9531864295549465,\n      0.8529212119416404,\n      0.9520849779014713,\n      0.9457345260379552]}\n\n"
      ]
    },
    {
      "cell_type": "markdown",
      "metadata": {},
      "source": [
        "Defining a GBS circuit\n~~~~~~~~~~~~~~~~~~~~~~\n\nA time-domain program is defined by the sequences of arguments each quantum\ngate applies at each time bin within the duration of the program. As\n*Borealis* is an interferometer with a total of seven Gaussian gates (one\nsqueezer, three rotation gates, and three tunable beamsplitters), we require seven\nlists of arguments:\n\n- ``r``: sequence of squeezing values\n-  ``phi_0``, ``phi_1``, ``phi_2``: sequences of arguments applied by the\n   rotation gates\n-  ``alpha_0``, ``alpha_1``, ``alpha_2``: sequences of arguments applied by\n   the beamsplitters\n\n\n"
      ]
    },
    {
      "cell_type": "markdown",
      "metadata": {},
      "source": [
        "Fast track\n<<<<<<<<<<\n\nIf you do not want to be bothered with defining the gate arguments yourself and just want to run\nand analyze *some* GBS instance, simply call the ``borealis_gbs`` helper function and proceed to\nthe `executing-the-circuit` section below. The ``gate_args_list`` summarizes all the\nnecessary information for Strawberry Fields and our hardware to implement your circuit. In\nparticular, it contains the arguments to be applied by our seven Gaussian gates at each time bin.\nYour circuit will be roughly equivalent to the ones presented in our publication\n[[#advantage2022]_]. All you need to do is to specify the number of modes (up to 288) and a\nsqueezing level (``\"low\"``, \"``medium``\", or \"``high``\").\n\nWe also need to import two other helper functions, which will be explained and used later.\n\n"
      ]
    },
    {
      "cell_type": "code",
      "execution_count": null,
      "metadata": {
        "collapsed": false
      },
      "outputs": [],
      "source": [
        "from strawberryfields.tdm import borealis_gbs, full_compile, get_mode_indices\n\ngate_args_list = borealis_gbs(device, modes=216, squeezing=\"high\")"
      ]
    },
    {
      "cell_type": "markdown",
      "metadata": {},
      "source": [
        ".. rst-class:: sphx-glr-script-out\n\n Out:\n\n .. code-block:: none\n\n    2022-04-05 10:45:17,350 - WARNING - 136/259 arguments of phase gate 1 have been shifted by pi in order to be compatible with the phase modulators.\n    2022-04-05 10:45:17,352 - WARNING - 143/259 arguments of phase gate 2 have been shifted by pi in order to be compatible with the phase modulators.\n\n"
      ]
    },
    {
      "cell_type": "markdown",
      "metadata": {},
      "source": [
        "Define your gates manually (optional)\n<<<<<<<<<<<<<<<<<<<<<<<<<<<<<<<<<<<<<\n\nIf you want to be more in control of what your circuit should look like, we invite you to follow\nthrough with the following couple of steps. Let's begin by defining the squeezing values, for\ninstance, by creating a list with the same number of parameters as the number of modes in the\nprogram.\n\n"
      ]
    },
    {
      "cell_type": "code",
      "execution_count": null,
      "metadata": {
        "collapsed": false
      },
      "outputs": [],
      "source": [
        "modes = 216\n\n# squeezing-gate parameters\nr = [1.234] * modes"
      ]
    },
    {
      "cell_type": "markdown",
      "metadata": {},
      "source": [
        "The squeezing values you define will later be matched to the closest one\nsupported by our hardware. You can always view the supported values by calling\n``device.certificate[\"squeezing_parameters_mean\"]``. In case you are unsure\nabout what squeezing value to apply, we also support string values instead of\nnumeric lists. You can set ``r`` to ``\"zero\"``, ``\"low\"``, ``\"medium\"``, or\n``\"high\"`` to access one of the pre-calibrated squeezing levels which will\nthen be applied to all pulses in your program.\n\nFor our GBS job, we draw the phase-gate arguments and beamsplitter transmission\nvalues from a uniform random distribution. The beamsplitter intensity\ntransmission can be set anywhere between 0 and 1, but in order to obtain a\ndenser adjacency matrix (i.e. a better spread of entanglement throughout the\nmodes) we limit the range to $T \\in [0.4, 0.6]$. Given some intensity\ntransmission $T$, the argument passed to our beamsplitter will then be\n$\\alpha=\\text{arccos}(\\sqrt{T})$. Considering this conversion, we can\ndefine our random sequences.\n\n\n"
      ]
    },
    {
      "cell_type": "code",
      "execution_count": null,
      "metadata": {
        "collapsed": false
      },
      "outputs": [],
      "source": [
        "min_phi, max_phi = 0, 2 * np.pi\nmin_T, max_T = 0.4, 0.6\n\n# rotation-gate parameters\nphi_0 = np.random.uniform(low=min_phi, high=max_phi, size=modes)\nphi_1 = np.random.uniform(low=min_phi, high=max_phi, size=modes)\nphi_2 = np.random.uniform(low=min_phi, high=max_phi, size=modes)\n\n# beamsplitter parameters\nT_0 = np.random.uniform(low=min_T, high=max_T, size=modes)\nT_1 = np.random.uniform(low=min_T, high=max_T, size=modes)\nT_2 = np.random.uniform(low=min_T, high=max_T, size=modes)\nalpha_0 = np.arccos(np.sqrt(T_0))\nalpha_1 = np.arccos(np.sqrt(T_1))\nalpha_2 = np.arccos(np.sqrt(T_2))"
      ]
    },
    {
      "cell_type": "markdown",
      "metadata": {},
      "source": [
        "Now, we want to set the first arguments of each loop to $T=1$\n($\\alpha=0$). This will couple an incoming pulse entirely into the loop,\nand a vacuum mode that was inside the loop will be coupled out \u2014 no\ninterference between the two will occur. For each loop this needs to be\nrepeated until the respective delay line is completely emptied from vacuum\nmodes and filled with computational modes (i.e. optical pulses).\n\n\n"
      ]
    },
    {
      "cell_type": "code",
      "execution_count": null,
      "metadata": {
        "collapsed": false
      },
      "outputs": [],
      "source": [
        "# the travel time per delay line in time bins\ndelay_0, delay_1, delay_2 = 1, 6, 36\n\n# set the first beamsplitter arguments to 'T=1' ('alpha=0') to fill the\n# loops with pulses\nalpha_0[:delay_0] = 0.0\nalpha_1[:delay_1] = 0.0\nalpha_2[:delay_2] = 0.0"
      ]
    },
    {
      "cell_type": "markdown",
      "metadata": {},
      "source": [
        "For convenience, let's collect the gate arguments in a dictionary.\n\n"
      ]
    },
    {
      "cell_type": "code",
      "execution_count": null,
      "metadata": {
        "collapsed": false
      },
      "outputs": [],
      "source": [
        "gate_args = {\n    \"Sgate\": r,\n    \"loops\": {\n        0: {\"Rgate\": phi_0.tolist(), \"BSgate\": alpha_0.tolist()},\n        1: {\"Rgate\": phi_1.tolist(), \"BSgate\": alpha_1.tolist()},\n        2: {\"Rgate\": phi_2.tolist(), \"BSgate\": alpha_2.tolist()},\n    },\n}"
      ]
    },
    {
      "cell_type": "markdown",
      "metadata": {},
      "source": [
        "Before we can submit these gates to Strawberry Fields, we need to make some\nadjustments to the lists in order to account for the peculiarities of our\nhardware and TDM circuits in general:\n\n- **Squeezing level**: Only a discrete set of squeezing parameters is properly\n  calibrated. These are the values that the hardware is able to apply. The\n  squeezing values in your ``r`` list need to be matched to the closest value\n  that is supported by the hardware.\n- **Mode delay**: Note that the gate sequences you have defined for the respective\n  loops do not necessarily start at the same time. It all depends on how long\n  the arrival of the first pulse at a respective loop (and its rotation and\n  beamsplitter gate) has been delayed by previous loops. Therefore, the time\n  that each gate sequence starts has to be delayed accordingly.\n- **Emptying the delay lines**: When your time-domain circuit is over, there might\n  still be some pulses travelling in the fibre loops. The variable\n  beamsplitters must be set such that these modes can exit the loops and\n  travel to the detector module.\n- **Phase corrections**: On top of applying the phase-gate arguments that you ask\n  for, our phase modulators need to compensate for other, static, non-programmable\n  phase offsets in the setup. In some cases, the offset-corrected phase falls\n  beyond range of the modulators. So we want to make sure that all the\n  phase-gate arguments submitted to the ``TDMProgram`` can actually be\n  implemented in the presence of the non-programmable phase offsets.\n\nThese compilation steps can be carried out individually (manually, or by\ncalling the respective Strawberry Fields helper functions) as described in the\n`advanced tutorial <link-to-advanced-tutorial>`__. However, we can\nconveniently call one function that takes care of all these steps at once.\n\n\n"
      ]
    },
    {
      "cell_type": "code",
      "execution_count": null,
      "metadata": {
        "collapsed": false
      },
      "outputs": [],
      "source": [
        "gate_args_list = full_compile(gate_args, device)"
      ]
    },
    {
      "cell_type": "markdown",
      "metadata": {},
      "source": [
        ".. rst-class:: sphx-glr-script-out\n\n Out:\n\n .. code-block:: none\n\n    2022-04-05 10:47:24,388 - WARNING - Submitted squeezing values have been matched to the closest median value supported by hardware: ['0.000', '0.150', '0.350', '0.550'].\n    2022-04-05 10:47:24,391 - WARNING - 129/259 arguments of phase gate 1 have been shifted by pi in order to be compatible with the phase modulators.\n    2022-04-05 10:47:24,391 - WARNING - 143/259 arguments of phase gate 2 have been shifted by pi in order to be compatible with the phase modulators.\n\n"
      ]
    },
    {
      "cell_type": "markdown",
      "metadata": {},
      "source": [
        "<div class=\"alert alert-info\"><h4>Note</h4><p>As mentioned above, we sometimes need to delay the beginning of the gate\n   sequences depending on the delay applied by previous loop(s) at the arrival\n   of the first pulse so that they can start right on time. Also, we want a program\n   to end with open loops in order to give all modes the opportunity to exit\n   the delay lines and travel to the detectors. Both of these goals are achieved\n   by adding particular amounts of zeros to the beginning and end of the\n   respective gate lists. This is why after calling ``full_compile()``, your\n   gate lists have grown, which you can easily verify yourself. Visit the\n   `advanced tutorial <link-to-advanced-tutorial>`__ for more details.</p></div>\n\n\n"
      ]
    },
    {
      "cell_type": "markdown",
      "metadata": {},
      "source": [
        "\nExecuting the circuit\n~~~~~~~~~~~~~~~~~~~~~\n\nIn order to execute a circuit we need to submit it to a Strawberry Fields\n``TDMProgram``. Our first step will be to declare the delays in the loops,\ni.e. the number of modes that will fit in each loop at the same time. We can\nthen use a helper function called ``get_mode_indices`` to get the number of\nmodes that are alive at the same time (*concurrent* modes) ``N``, which is required\nfor initializing the ``TDMProgram``, and the correct mode indices ``n`` for the\ncircuit gates. The parameter ``n`` helps us to define the ``TDMProgram`` in a\nreally concise way, as you will see below.\n\n\n"
      ]
    },
    {
      "cell_type": "code",
      "execution_count": null,
      "metadata": {
        "collapsed": false
      },
      "outputs": [],
      "source": [
        "delays = [1, 6, 36]\nvac_modes = sum(delays)\n\nn, N = get_mode_indices(delays)"
      ]
    },
    {
      "cell_type": "markdown",
      "metadata": {},
      "source": [
        "Finally, we can construct the circuit. The layout of this circuit is\nset by the hardware device and cannot be changed. If the wrong gates are\nused or they are put in the wrong order, the circuit validation will\nfail.\n\n\n"
      ]
    },
    {
      "cell_type": "code",
      "execution_count": null,
      "metadata": {
        "collapsed": false
      },
      "outputs": [],
      "source": [
        "from strawberryfields.ops import Sgate, Rgate, BSgate, MeasureFock\n\nprog = sf.TDMProgram(N)\n\nwith prog.context(*gate_args_list) as (p, q):\n    Sgate(p[0]) | q[n[0]]\n    for i in range(len(delays)):\n        Rgate(p[2 * i + 1]) | q[n[i]]\n        BSgate(p[2 * i + 2], np.pi / 2) | (q[n[i + 1]], q[n[i]])\n    MeasureFock() | q[0]"
      ]
    },
    {
      "cell_type": "markdown",
      "metadata": {},
      "source": [
        "Submit to hardware and analyze results\n<<<<<<<<<<<<<<<<<<<<<<<<<<<<<<<<<<<<<<\n\nAfter constructing the circuit, now uniquely defined by the ``prog``\nobject, we can submit it to *Borealis* by calling and running the\n``RemoteEngine`` object that we created above. If you do not have an API key,\ncontinue on to the `submit-local-simulation` section below.\n\n\n"
      ]
    },
    {
      "cell_type": "code",
      "execution_count": null,
      "metadata": {
        "collapsed": false
      },
      "outputs": [],
      "source": [
        "shots = 250_000\nresults = eng.run(prog, shots=shots, crop=True)\n\nsamples = results.samples"
      ]
    },
    {
      "cell_type": "markdown",
      "metadata": {},
      "source": [
        ".. rst-class:: sphx-glr-script-out\n\n Out:\n\n .. code-block:: none\n\n    2022-04-05 10:48:47,057 - INFO - Compiling program for device borealis using compiler borealis.\n    2022-04-07 10:48:51,999 - INFO - The remote job 36424646-45bc-4de2-a01b-e078766fa78e has been completed.\n\n"
      ]
    },
    {
      "cell_type": "markdown",
      "metadata": {},
      "source": [
        "<div class=\"alert alert-info\"><h4>Note</h4><p>Depending on how long the first optical pulse is delayed by the respective\n     loops, the circuit will measure a couple of empty modes at the beginning. The\n     ``crop=True`` flag will make sure these empty modes are not returned.</p></div>\n\n\n"
      ]
    },
    {
      "cell_type": "markdown",
      "metadata": {},
      "source": [
        "Running the circuit remotely on *Borealis* will return an ``sf.Result``\nobject which contains the samples that are obtained by the machine. The\nsamples returned by any ``sf.TDMProgram`` are of shape ``(shots,\nspatial modes, temporal modes)``. So, in our case we should have received samples of shape\n``(shots, 1, 216)``.\n\nIf you followed through with the above steps, you have just run a GBS\ninstance of the same type as demonstrated in our manuscript\n[[#advantage2022]_]! This paper also explains how to obtain the estimated\nruntime required by *Fugaku* (currently the world's most powerful classical\nsupercomputer) to simulate the individual GBS samples. You can compute these\nruntimes for the GBS samples that you just created using the Strawberry Fields\nutility function ``gbs_sample_runtime``. Note, however, that this analysis is\nbased on the *current* *Fugaku* specs (characterized by the LINPACK\nsupercomputer benchmarks) and on the best *known* algorithm to compute\nHafnians. Therefore, this estimation of simulation runtime can be affected in\nthe future by the advent of more powerful computers and/or more efficient\nalgorithms.\n\n"
      ]
    },
    {
      "cell_type": "code",
      "execution_count": null,
      "metadata": {
        "collapsed": false
      },
      "outputs": [],
      "source": [
        "from strawberryfields.utils import gbs_sample_runtime\n\nruntimes = np.array([gbs_sample_runtime(sample[0]) for sample in samples])"
      ]
    },
    {
      "cell_type": "markdown",
      "metadata": {},
      "source": [
        "Let us illustrate the simulation runtimes in a histogram using ``matplotlib.pyplot``.\n\n"
      ]
    },
    {
      "cell_type": "code",
      "execution_count": null,
      "metadata": {
        "collapsed": false
      },
      "outputs": [],
      "source": [
        "import matplotlib.pyplot as plt\n\nfs_axlabel = 22\nfs_text = 20\nfs_ticklabel = 21\nfs_legend = 20\n\ndef plot_simulation_time(runtimes):\n    \"\"\"Plots a histogram with simulation times.\n\n    Args:\n        runtimes (array[float]): the runtimes per GBS sample\n    \"\"\"\n    runtimes_log_years = np.log10(runtimes / 365 / 24 / 3600)\n    max_exponent = int(max(runtimes_log_years))\n    min_exponent = int(min(runtimes_log_years))\n\n    _, ax = plt.subplots(figsize=(18, 8))\n    bins = np.arange(min_exponent, max_exponent + 1)\n    ax.hist(runtimes_log_years, width=0.8, bins=bins - 0.4)\n    ax.set_xlabel(r\"simulation time [log$_{10}$ years]\", fontsize=fs_axlabel)\n    ax.set_ylabel(\"occurrence\", fontsize=fs_axlabel)\n    ax.set_yscale(\"log\")\n    ax.tick_params(axis=\"x\", labelsize=fs_ticklabel)\n    ax.tick_params(axis=\"y\", labelsize=fs_ticklabel)\n    ax.set_xticks(bins)\n\n    plt.show()\n\nplot_simulation_time(runtimes)"
      ]
    },
    {
      "cell_type": "markdown",
      "metadata": {},
      "source": [
        "![](/tutorials/images/borealis_simulation_runtimes.png)\n\n   :width: 100%\n   :align: center\n   :target: javascript:void(0);\n\n\n"
      ]
    },
    {
      "cell_type": "markdown",
      "metadata": {},
      "source": [
        "We can also print the median and average simulation time per sample, the simulation time of your\nbrightest sample (the one with the most photons in it), and the time it would take to simulate\n*all* the samples you created.\n\n"
      ]
    },
    {
      "cell_type": "code",
      "execution_count": null,
      "metadata": {
        "collapsed": false
      },
      "outputs": [],
      "source": [
        "runtime_data = f\"\"\"\nsimulation runtimes [years]\nmedian: {np.median(runtimes) / 365 / 24 / 3600:.1E}\naverage: {np.mean(runtimes) / 365 / 24 / 3600:.1E}\nbrightest: {np.max(runtimes) / 365 / 24 / 3600:.1E}\ntotal: {np.sum(runtimes) / 365 / 24 / 3600:.1E}\n\"\"\"\n\nprint(runtime_data)"
      ]
    },
    {
      "cell_type": "markdown",
      "metadata": {},
      "source": [
        ".. rst-class:: sphx-glr-script-out\n\n Out:\n\n .. code-block:: none\n\n    simulation runtimes [years]\n    median: 3.9E+00\n    average: 2.3E+05\n    brightest: 2.0E+10\n    total: 1.1E+11\n\n"
      ]
    },
    {
      "cell_type": "markdown",
      "metadata": {},
      "source": [
        "Next, let us look at the statistical moments of our samples. The following two\nfunctions will return an array of mean photon numbers for the 216 modes and a\n$216 \\times 216$ photon-number covariance matrix whose elements are\ndefined by $\\text{Cov}(n_{i}, n_{j}) = E(n_{i} n_{j})\n- E(n_{i}) E(n_{j})$.\n\n\n"
      ]
    },
    {
      "cell_type": "code",
      "execution_count": null,
      "metadata": {
        "collapsed": false
      },
      "outputs": [],
      "source": [
        "mean_n = np.mean(samples, axis=(0, 1))\ncov_n = np.cov(samples[:, 0, :].T)"
      ]
    },
    {
      "cell_type": "markdown",
      "metadata": {},
      "source": [
        "Let's visualize these two results in a figure. This figure can then be used to\ncompare the hardware outcome with local simulations.\n\n\n"
      ]
    },
    {
      "cell_type": "code",
      "execution_count": null,
      "metadata": {
        "collapsed": false
      },
      "outputs": [],
      "source": [
        "import matplotlib.colors\n\ndef plot_photon_number_moments(mean_n, cov_n):\n    \"\"\"Plots first and second moment of the photon-number distribution.\n\n    Args:\n        mean_n (array[float]): mean photon number per mode\n        cov_n (array[int]): photon-number covariance matrix\n    \"\"\"\n    _, ax = plt.subplots(1, 2, figsize=(18, 8))\n\n    ax[0].bar(range(len(mean_n)), mean_n, width=0.75, align=\"center\")\n    ax[0].set_title(\n        rf\"<$n$> = {np.mean(mean_n):.3f}, <$N$> = {np.sum(mean_n):.3f}\",\n        fontsize=fs_axlabel,\n    )\n    ax[0].set_xlabel(\"pulse index\", fontsize=fs_axlabel)\n    ax[0].set_ylabel(\"mean photon number\", fontsize=fs_axlabel)\n    ax[0].grid()\n    ax[0].tick_params(axis=\"x\", labelsize=fs_ticklabel)\n    ax[0].tick_params(axis=\"y\", labelsize=fs_ticklabel)\n\n    ax[1].imshow(\n        cov_n,\n        norm=matplotlib.colors.SymLogNorm(linthresh=10e-6, linscale=1e-4, vmin=0, vmax=2),\n        cmap=\"rainbow\",\n    )\n    ax[1].set_title(r\"Cov($n{_i}$, $n{_j}$)\", fontsize=fs_axlabel)\n    ax[1].tick_params(axis=\"x\", labelsize=fs_ticklabel)\n    ax[1].tick_params(axis=\"y\", labelsize=fs_ticklabel)\n\n    plt.show()\n\nplot_photon_number_moments(mean_n, cov_n)"
      ]
    },
    {
      "cell_type": "markdown",
      "metadata": {},
      "source": [
        "![](/tutorials/images/borealis_moments_experiment.png)\n\n   :width: 100%\n   :align: center\n   :target: javascript:void(0);\n\n\n"
      ]
    },
    {
      "cell_type": "markdown",
      "metadata": {},
      "source": [
        "\nSubmit to local simulation and compare to hardware results\n<<<<<<<<<<<<<<<<<<<<<<<<<<<<<<<<<<<<<<<<<<<<<<<<<<<<<<<<<<\n\nNow, let us switch to a local simulation and see how the results compare\nagainst the experimental data. By design, *Borealis* is an experiment that is\ndifficult to sample from classically. What the simulator devices *cannot* do\nis return actual samples the same way the remote engine does, at least not in\na reasonable amount of time. Setting ``shots=None`` in the ``Engine.run()`` call\nbelow makes sure that the local engine doesn't even attempt to simulate GBS\noutcomes. Still, even though the engine won't return samples, running the\ncircuit locally on the Gaussian backend returns an ``sf.Result`` object with\nmany other interesting properties.\n\nLoss channels will be added to the program to make\nthe simulation more realistic. To do this, the actual efficiency\nvalues obtained in the most recent *Borealis* calibration run, which are\nstored in the device certificate, will be used during the compilation process.\n\n"
      ]
    },
    {
      "cell_type": "markdown",
      "metadata": {},
      "source": [
        "We begin by collecting the options that we wish to pass to the compiler prior to running the\nsimulation. To apply realistic loss, instead of using the default backend compiler we need to\ncompile the program using the Borealis compiler. We also need to pass the device along to the\nengine since it's required by the Borealis compiler and also contains the relevant efficiency\nvalues used when applying the loss.\n\n"
      ]
    },
    {
      "cell_type": "code",
      "execution_count": null,
      "metadata": {
        "collapsed": false
      },
      "outputs": [],
      "source": [
        "compile_options = {\n    \"device\": device,\n    \"realistic_loss\": True,\n}"
      ]
    },
    {
      "cell_type": "markdown",
      "metadata": {},
      "source": [
        "Finally, we can run the program on the Gaussian backend, setting the number of shots to ``None``\n--- meaning that no sampling will be attempted --- and the ``crop`` keyword to ``True``, cropping\naway the empty modes at the beginning. We also need to tell the engine to\nspace-unroll the circuit before running it. Otherwise, the simulation will\nonly handle the concurrent modes, i.e. the modes that are simultaneously alive\nat a given time (in our case 44), causing the final state to only contain a\nsubset of all the modes. You can read more about space-unrolling in the\n`advanced tutorial <link-to-advanced-tutorial>`__.\n\nTo make the code a bit cleaner, we collect all run options in a dictionary which we can unwrap in\nthe run call signature.\n\n"
      ]
    },
    {
      "cell_type": "code",
      "execution_count": null,
      "metadata": {
        "collapsed": false
      },
      "outputs": [],
      "source": [
        "run_options = {\n    \"shots\": None,\n    \"crop\": True,\n    \"space_unroll\": True,\n}\n\neng_sim = sf.Engine(backend=\"gaussian\")\nresults_sim = eng_sim.run(prog, **run_options, compile_options=compile_options)"
      ]
    },
    {
      "cell_type": "markdown",
      "metadata": {},
      "source": [
        "When executing the program on a simulator device, we can extract the covariance\nmatrix by calling the ``cov()`` method on the returned state, which is not\npossible when running on *Borealis*.\n\n"
      ]
    },
    {
      "cell_type": "code",
      "execution_count": null,
      "metadata": {
        "collapsed": false
      },
      "outputs": [],
      "source": [
        "cov = results_sim.state.cov()"
      ]
    },
    {
      "cell_type": "markdown",
      "metadata": {},
      "source": [
        "The covariance matrix describes the quadrature relations of the individual\nmodes and, in the absence of displacements, contains the full information of\nthe Gaussian state. However, if we want to be able to compare the simulation\nagainst experimental data, we would like to obtain the same photon-number\nstatistics as above: the array of mean photon numbers for the 216 modes and a\n$216 \\times 216$ photon-number covariance matrix. We can use\n``photon_number_mean_vector()`` and ``photon_number_covmat()``, two functions\nfrom Xanadu's open-source library `The Walrus <https://the-walrus.readthedocs.io/>`_,\nto obtain these distributions from the quadrature covariance matrix.\n\n\n"
      ]
    },
    {
      "cell_type": "code",
      "execution_count": null,
      "metadata": {
        "collapsed": false
      },
      "outputs": [],
      "source": [
        "from thewalrus.quantum import (\n    photon_number_mean_vector,\n    photon_number_covmat,\n)\n\nmu = np.zeros(len(cov))\nmean_n_sim = photon_number_mean_vector(mu, cov)\ncov_n_sim = photon_number_covmat(mu, cov)\n\nplot_photon_number_moments(mean_n_sim, cov_n_sim)"
      ]
    },
    {
      "cell_type": "markdown",
      "metadata": {},
      "source": [
        "![](/tutorials/images/borealis_moments_simulation.png)\n\n   :width: 100%\n   :align: center\n   :target: javascript:void(0);\n\n\n"
      ]
    },
    {
      "cell_type": "markdown",
      "metadata": {},
      "source": [
        "If you have submitted the same circuit to both *Borealis* and the local simulator backend,\nfollowing the steps above, you should be able to compare the two results. We can also visualize\nthe similarities between the two using scatter plots with the first and second moments of the\nsimulated and experimental photon-number distributions.\n\n"
      ]
    },
    {
      "cell_type": "code",
      "execution_count": null,
      "metadata": {
        "collapsed": false
      },
      "outputs": [],
      "source": [
        "def plot_photon_number_moment_comparison(mean_n_exp, mean_n_sim, cov_n_exp, cov_n_sim):\n    \"\"\"Plot first and second moment of the PNR distribution.\n\n    Compare in scatter plots the first and second moments of the photon-number\n    distribution resulting from experiment and simulation.\n\n    Args:\n        mean_n_exp (array): experimental mean photon number per mode\n        mean_n_sim (array): simulated mean photon number per mode\n        cov_n_exp (array): experimental photon-number covariance matrix\n        cov_n_sim (array): simulated photon-number covariance matrix\n    \"\"\"\n    cov_n_exp2 = np.copy(cov_n_exp)\n    cov_n_sim2 = np.copy(cov_n_sim)\n\n    # remove the diagonal elements (corresponding to the single-mode variance)\n    # which would otherwise be dominant\n    cov_n_exp2 -= np.diag(np.diag(cov_n_exp2))\n    cov_n_sim2 -= np.diag(np.diag(cov_n_sim2))\n\n    _, ax = plt.subplots(1, 2, figsize=(18, 8))\n\n    min_ = np.min([mean_n_sim, mean_n_exp])\n    max_ = np.max([mean_n_sim, mean_n_exp])\n    ax[0].scatter(mean_n_sim, mean_n_exp, s=4, alpha=0.50)\n    ax[0].plot([min_, max_], [min_, max_], \"k--\")\n    ax[0].set_title(\"1st moment\", fontsize=fs_axlabel)\n    ax[0].set_xlabel(\"simulation\", fontsize=fs_axlabel)\n    ax[0].set_ylabel(\"experiment\", fontsize=fs_axlabel)\n    ax[0].set_xlim([min_, max_])\n    ax[0].set_ylim([min_, max_])\n    ax[0].set_aspect(\"equal\", adjustable=\"box\")\n    ax[0].tick_params(axis=\"x\", labelsize=fs_ticklabel)\n    ax[0].tick_params(axis=\"y\", labelsize=fs_ticklabel)\n    ax[0].grid()\n\n    min_ = np.min([cov_n_sim2, cov_n_exp2])\n    max_ = np.max([cov_n_sim2, cov_n_exp2])\n    ax[1].scatter(cov_n_sim2, cov_n_exp2, s=4, alpha=0.50)\n    ax[1].plot([min_, max_], [min_, max_], \"k--\")\n    ax[1].set_title(\"2nd moment\", fontsize=fs_axlabel)\n    ax[1].set_xlabel(\"simulation\", fontsize=fs_axlabel)\n    ax[1].set_ylabel(\"experiment\", fontsize=fs_axlabel)\n    ax[1].set_xlim([min_, max_])\n    ax[1].set_ylim([min_, max_])\n    ax[1].set_aspect(\"equal\", adjustable=\"box\")\n    ax[1].tick_params(axis=\"x\", labelsize=fs_ticklabel)\n    ax[1].tick_params(axis=\"y\", labelsize=fs_ticklabel)\n    ax[1].grid()\n\n    plt.show()\n\nplot_photon_number_moment_comparison(mean_n, mean_n_sim, cov_n, cov_n_sim)"
      ]
    },
    {
      "cell_type": "markdown",
      "metadata": {},
      "source": [
        "![](/tutorials/images/borealis_cumulant_comparison.png)\n\n   :width: 100%\n   :align: center\n   :target: javascript:void(0);\n\nIf everything is working as expected, the scatter points should be distributed close to the\ndiagonals. This means that the experiment and simulation are in good agreement with one another.\n\n"
      ]
    },
    {
      "cell_type": "markdown",
      "metadata": {},
      "source": [
        "Conclusion\n~~~~~~~~~~\n\nThis tutorial covered how to submit jobs to our temporal-division multiplexing\ndevice *Borealis*. It's rather exciting to be able to demonstrate the concept\nof quantum-computational advantage by examples running on actual hardware. As\nyou have now seen, there are quite a few details to keep track of. As\nlong as the circuit follows the correct layout and the parameters are\ncorrectly declared, anyone with Xanadu cloud access can submit jobs to be\nexcecuted on *Borealis* and get back samples that would be difficult, if not\noutright impossible, to retrieve using a local simulator.\n\nYou can find some more examples of how to visualize your data `here\n<https://github.com/XanaduAI/strawberryfields/blob/master/examples/gbs_data_visualization.py>`_.\n\nWe hope that you've enjoyed this demonstration and that you're as excited as\nwe are about the possibilities. If you wish to dig deeper into the science\nbehind all of this, we recommend that you read our paper [[#advantage2022]_] and\ncheck out our `advanced Borealis tutorial <link-to-advanced-tutorial>`__.\n\n\n"
      ]
    },
    {
      "cell_type": "markdown",
      "metadata": {},
      "source": [
        "References\n~~~~~~~~~~\n\n.. [#advantage2022]\n\n    Quantum computational advantage with a programmable photonic processor\n\n\n"
      ]
    }
  ],
  "metadata": {
    "kernelspec": {
      "display_name": "Python 3",
      "language": "python",
      "name": "python3"
    },
    "language_info": {
      "codemirror_mode": {
        "name": "ipython",
        "version": 3
      },
      "file_extension": ".py",
      "mimetype": "text/x-python",
      "name": "python",
      "nbconvert_exporter": "python",
      "pygments_lexer": "ipython3",
      "version": "3.9.10"
    }
  },
  "nbformat": 4,
  "nbformat_minor": 0
}