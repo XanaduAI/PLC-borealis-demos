{
 "cells": [
  {
   "cell_type": "code",
   "execution_count": null,
   "metadata": {
    "collapsed": false,
    "jupyter": {
     "outputs_hidden": false
    }
   },
   "outputs": [],
   "source": [
    "%matplotlib inline"
   ]
  },
  {
   "cell_type": "markdown",
   "metadata": {},
   "source": [
    "\n",
    "Operating Borealis -- beginner tutorial\n",
    "=======================================\n",
    "\n",
    "*Authors: Fabian Laudenbach and Theodor Isacsson*\n",
    "\n",
    "The demonstration of quantum computational advantage (i.e., the ability of a\n",
    "quantum processor to accomplish a task exponentially faster than any super\n",
    "computer could) is considered an important milestone towards useful quantum\n",
    "computers. One task that is proven to be computationally hard is sampling the\n",
    "photon numbers of multimode squeezed states that have travelled through a\n",
    "non-trivial interferometer --- a problem which is referred to as Gaussian Boson\n",
    "Sampling (GBS). In our publication[<sup>#advantage2022</sup>](#advantage2022), we showcase a\n",
    "programmable loop interferometer that can successfully sample GBS instances orders\n",
    "of magnitudes faster than any known classical algorithm could. The experiment is\n",
    "based on temporal-division multiplexing (TDM) --- also known as time-domain\n",
    "multiplexing --- which allows for a comparatively simple experimental setup in\n",
    "which the number of optical parts and devices is independent from the number of\n",
    "optical modes. A single squeezed-light source emits batches of 216 time-ordered\n",
    "squeezed-light pulses. These pulses interfere with one another with the help\n",
    "of optical delay lines (acting as memory buffers), programmable beamsplitters,\n",
    "and phase shifters. A simple schematic of the setup can be seen below.\n",
    "\n",
    "![](./.imgs/borealis_schematic_simple.png)\n",
    "\n",
    "The architecture of our GBS machine -- which we call *Borealis* -- is layed out\n",
    "as follows. A squeezed-light source injects pulse trains of 216 modes,\n",
    "temporally spaced by $\\tau = 167~\\text{ns}$, into the interferometer which\n",
    "consists of three delay loops that are individually characterized by the\n",
    "roundtrip time it takes a mode to travel trough it. The first, second,\n",
    "and third delay loops have a roundtrip time of $1 \\tau$, $6 \\tau$,\n",
    "and $36 \\tau$, respectively. Each loop is associated with two programmable\n",
    "Gaussian gates; a rotation gate right before the loop and a variable\n",
    "beamsplitter that interferes modes approaching the loop with modes coming from\n",
    "*within* the loop.\n",
    "\n",
    "In this tutorial, we will discuss how a GBS circuit on *Borealis* can be\n",
    "programmed using the ``strawberryfields.TDMProgram`` class. This class allows us\n",
    "to define and run time-multiplexed photonic circuits in a very efficient way,\n",
    "even if these circuits include large numbers of modes. For more background on\n",
    "the ``TDMProgram``, please refer to the [beginner](https://strawberryfields.ai/photonics/demos/run_time_domain.html) and\n",
    "[advanced](https://strawberryfields.ai/photonics/demos/run_advanced_time_domain.html)\n",
    "tutorials on time-domain photonic circuits.\n",
    "\n",
    "After defining our GBS circuit, we can either submit the program to the\n",
    "hardware, run a simulation or do both.\n"
   ]
  },
  {
   "cell_type": "markdown",
   "metadata": {},
   "source": [
    "# Loading the device specification\n",
    "\n",
    "To start off, we import Strawberry Fields along with NumPy, which we will need\n",
    "later on. We then need to load the ``device`` object which contains relevant\n",
    "and up-to-date information about *Borealis*. It includes two dictionaries: the\n",
    "device specification (*Borealis* uptime, allowed circuit layout, allowed gate\n",
    "parameters) and the device certificate (most recent calibration results).\n",
    "\n",
    "You can retrieve the device from the platform upon connecting to *Borealis* by calling the ``eng.device`` property on the ``RemoteEngine`` object.\n",
    "\n"
   ]
  },
  {
   "cell_type": "code",
   "execution_count": null,
   "metadata": {
    "collapsed": false,
    "jupyter": {
     "outputs_hidden": false
    }
   },
   "outputs": [],
   "source": [
    "import strawberryfields as sf\n",
    "import numpy as np\n",
    "\n",
    "eng = sf.RemoteEngine(\"borealis\")\n",
    "device = eng.device"
   ]
  },
  {
   "cell_type": "markdown",
   "metadata": {},
   "source": [
    "The ``device`` allows us to make your TDM circuit compatible with our hardware.\n",
    "This is why it is passed to some of the functions defined below. In\n",
    "particular, these functions need to access the latest calibration results\n",
    "which you can view yourself in the device certificate.\n",
    "\n"
   ]
  },
  {
   "cell_type": "code",
   "execution_count": null,
   "metadata": {
    "collapsed": false,
    "jupyter": {
     "outputs_hidden": false
    }
   },
   "outputs": [],
   "source": [
    "device.certificate"
   ]
  },
  {
   "cell_type": "markdown",
   "metadata": {
    "tags": []
   },
   "source": [
    "Defining a GBS circuit\n",
    "===\n",
    "\n",
    "A time-domain program is defined by the sequences of arguments each quantum\n",
    "gate applies at each time bin within the duration of the program. As\n",
    "*Borealis* is an interferometer with a total of seven Gaussian gates (one\n",
    "squeezer, three rotation gates, and three tunable beamsplitters), we require seven\n",
    "lists of arguments:\n",
    "\n",
    "- ``r``: sequence of squeezing values\n",
    "-  ``phi_0``, ``phi_1``, ``phi_2``: sequences of arguments applied by the\n",
    "   rotation gates\n",
    "-  ``alpha_0``, ``alpha_1``, ``alpha_2``: sequences of arguments applied by\n",
    "   the beamsplitters\n",
    "\n",
    "\n"
   ]
  },
  {
   "cell_type": "markdown",
   "metadata": {},
   "source": [
    "### Fast track\n",
    "\n",
    "If you do not want to be bothered with defining the gate arguments yourself and just want to run\n",
    "and analyze *some* GBS instance, simply call the ``borealis_gbs`` helper function and proceed to\n",
    "the `executing-the-circuit` section below. The ``gate_args_list`` summarizes all the\n",
    "necessary information for Strawberry Fields and our hardware to implement your circuit. In\n",
    "particular, it contains the arguments to be applied by our seven Gaussian gates at each time bin.\n",
    "Your circuit will be roughly equivalent to the ones presented in our publication[<sup>#advantage2022</sup>](#advantage2022). All you need to do is to specify the number of modes (up to 288) and a\n",
    "squeezing level (``\"low\"``, \"``medium``\", or \"``high``\").\n",
    "\n",
    "We also need to import two other helper functions, which will be explained and used later.\n",
    "\n"
   ]
  },
  {
   "cell_type": "code",
   "execution_count": null,
   "metadata": {
    "collapsed": false,
    "jupyter": {
     "outputs_hidden": false
    }
   },
   "outputs": [],
   "source": [
    "from strawberryfields.tdm import borealis_gbs, full_compile, get_mode_indices\n",
    "\n",
    "gate_args_list = borealis_gbs(device, modes=216, squeezing=\"high\")"
   ]
  },
  {
   "cell_type": "markdown",
   "metadata": {},
   "source": [
    "### Define your gates manually (optional)\n",
    "\n",
    "If you want to be more in control of what your circuit should look like, we invite you to follow\n",
    "through with the following couple of steps. Let's begin by defining the squeezing values, for\n",
    "instance, by creating a list with the same number of parameters as the number of modes in the\n",
    "program.\n",
    "\n"
   ]
  },
  {
   "cell_type": "code",
   "execution_count": null,
   "metadata": {
    "collapsed": false,
    "jupyter": {
     "outputs_hidden": false
    }
   },
   "outputs": [],
   "source": [
    "modes = 216\n",
    "\n",
    "# squeezing-gate parameters\n",
    "r = [1.234] * modes"
   ]
  },
  {
   "cell_type": "markdown",
   "metadata": {},
   "source": [
    "The squeezing values you define will later be matched to the closest one\n",
    "supported by our hardware. You can always view the supported values by calling\n",
    "``device.certificate[\"squeezing_parameters_mean\"]``. In case you are unsure\n",
    "about what squeezing value to apply, we also support string values instead of\n",
    "numeric lists. You can set ``r`` to ``\"zero\"``, ``\"low\"``, ``\"medium\"``, or\n",
    "``\"high\"`` to access one of the pre-calibrated squeezing levels which will\n",
    "then be applied to all pulses in your program.\n",
    "\n",
    "For our GBS job, we draw the phase-gate arguments and beamsplitter transmission\n",
    "values from a uniform random distribution. The beamsplitter intensity\n",
    "transmission can be set anywhere between 0 and 1, but in order to obtain a\n",
    "denser adjacency matrix (i.e. a better spread of entanglement throughout the\n",
    "modes) we limit the range to $T \\in [0.4, 0.6]$. Given some intensity\n",
    "transmission $T$, the argument passed to our beamsplitter will then be\n",
    "$\\alpha=\\text{arccos}(\\sqrt{T})$. Considering this conversion, we can\n",
    "define our random sequences.\n",
    "\n",
    "\n"
   ]
  },
  {
   "cell_type": "code",
   "execution_count": null,
   "metadata": {
    "collapsed": false,
    "jupyter": {
     "outputs_hidden": false
    }
   },
   "outputs": [],
   "source": [
    "min_phi, max_phi = 0, 2 * np.pi\n",
    "min_T, max_T = 0.4, 0.6\n",
    "\n",
    "# rotation-gate parameters\n",
    "phi_0 = np.random.uniform(low=min_phi, high=max_phi, size=modes)\n",
    "phi_1 = np.random.uniform(low=min_phi, high=max_phi, size=modes)\n",
    "phi_2 = np.random.uniform(low=min_phi, high=max_phi, size=modes)\n",
    "\n",
    "# beamsplitter parameters\n",
    "T_0 = np.random.uniform(low=min_T, high=max_T, size=modes)\n",
    "T_1 = np.random.uniform(low=min_T, high=max_T, size=modes)\n",
    "T_2 = np.random.uniform(low=min_T, high=max_T, size=modes)\n",
    "alpha_0 = np.arccos(np.sqrt(T_0))\n",
    "alpha_1 = np.arccos(np.sqrt(T_1))\n",
    "alpha_2 = np.arccos(np.sqrt(T_2))"
   ]
  },
  {
   "cell_type": "markdown",
   "metadata": {},
   "source": [
    "Now, we want to set the first arguments of each loop to $T=1$\n",
    "($\\alpha=0$). This will couple an incoming pulse entirely into the loop,\n",
    "and a vacuum mode that was inside the loop will be coupled out — no\n",
    "interference between the two will occur. For each loop this needs to be\n",
    "repeated until the respective delay line is completely emptied from vacuum\n",
    "modes and filled with computational modes (i.e. optical pulses).\n",
    "\n",
    "\n"
   ]
  },
  {
   "cell_type": "code",
   "execution_count": null,
   "metadata": {
    "collapsed": false,
    "jupyter": {
     "outputs_hidden": false
    }
   },
   "outputs": [],
   "source": [
    "# the travel time per delay line in time bins\n",
    "delay_0, delay_1, delay_2 = 1, 6, 36\n",
    "\n",
    "# set the first beamsplitter arguments to 'T=1' ('alpha=0') to fill the\n",
    "# loops with pulses\n",
    "alpha_0[:delay_0] = 0.0\n",
    "alpha_1[:delay_1] = 0.0\n",
    "alpha_2[:delay_2] = 0.0"
   ]
  },
  {
   "cell_type": "markdown",
   "metadata": {},
   "source": [
    "For convenience, let's collect the gate arguments in a dictionary.\n",
    "\n"
   ]
  },
  {
   "cell_type": "code",
   "execution_count": null,
   "metadata": {
    "collapsed": false,
    "jupyter": {
     "outputs_hidden": false
    }
   },
   "outputs": [],
   "source": [
    "gate_args = {\n",
    "    \"Sgate\": r,\n",
    "    \"loops\": {\n",
    "        0: {\"Rgate\": phi_0.tolist(), \"BSgate\": alpha_0.tolist()},\n",
    "        1: {\"Rgate\": phi_1.tolist(), \"BSgate\": alpha_1.tolist()},\n",
    "        2: {\"Rgate\": phi_2.tolist(), \"BSgate\": alpha_2.tolist()},\n",
    "    },\n",
    "}"
   ]
  },
  {
   "cell_type": "markdown",
   "metadata": {},
   "source": [
    "Before we can submit these gates to Strawberry Fields, we need to make some\n",
    "adjustments to the lists in order to account for the peculiarities of our\n",
    "hardware and TDM circuits in general:\n",
    "\n",
    "- **Squeezing level**: Only a discrete set of squeezing parameters is properly\n",
    "  calibrated. These are the values that the hardware is able to apply. The\n",
    "  squeezing values in your ``r`` list need to be matched to the closest value\n",
    "  that is supported by the hardware.\n",
    "- **Mode delay**: Note that the gate sequences you have defined for the respective\n",
    "  loops do not necessarily start at the same time. It all depends on how long\n",
    "  the arrival of the first pulse at a respective loop (and its rotation and\n",
    "  beamsplitter gate) has been delayed by previous loops. Therefore, the time\n",
    "  that each gate sequence starts has to be delayed accordingly.\n",
    "- **Emptying the delay lines**: When your time-domain circuit is over, there might\n",
    "  still be some pulses travelling in the fibre loops. The variable\n",
    "  beamsplitters must be set such that these modes can exit the loops and\n",
    "  travel to the detector module.\n",
    "- **Phase corrections**: On top of applying the phase-gate arguments that you ask\n",
    "  for, our phase modulators need to compensate for other, static, non-programmable\n",
    "  phase offsets in the setup. In some cases, the offset-corrected phase falls\n",
    "  beyond range of the modulators. So we want to make sure that all the\n",
    "  phase-gate arguments submitted to the ``TDMProgram`` can actually be\n",
    "  implemented in the presence of the non-programmable phase offsets.\n",
    "\n",
    "These compilation steps can be carried out individually (manually, or by\n",
    "calling the respective Strawberry Fields helper functions) as described in the\n",
    "[advanced tutorial](./tutorial_borealis_advanced.ipynb). However, we can\n",
    "conveniently call one function that takes care of all these steps at once.\n",
    "\n",
    "\n"
   ]
  },
  {
   "cell_type": "code",
   "execution_count": null,
   "metadata": {
    "collapsed": false,
    "jupyter": {
     "outputs_hidden": false
    }
   },
   "outputs": [],
   "source": [
    "gate_args_list = full_compile(gate_args, device)"
   ]
  },
  {
   "cell_type": "markdown",
   "metadata": {},
   "source": [
    "<div class=\"alert alert-info\"><h4>Note</h4><p>As mentioned above, we sometimes need to delay the beginning of the gate\n",
    "   sequences depending on the delay applied by previous loop(s) at the arrival\n",
    "   of the first pulse so that they can start right on time. Also, we want a program\n",
    "   to end with open loops in order to give all modes the opportunity to exit\n",
    "   the delay lines and travel to the detectors. Both of these goals are achieved\n",
    "   by adding particular amounts of zeros to the beginning and end of the\n",
    "   respective gate lists. This is why after calling ``full_compile()``, your\n",
    "   gate lists have grown, which you can easily verify yourself. Visit the\n",
    "   <a href=\"./tutorial_borealis_advanced.ipynb\">advanced tutorial</a> for more details.</p></div>\n",
    "\n",
    "\n"
   ]
  },
  {
   "cell_type": "markdown",
   "metadata": {},
   "source": [
    "# Executing the circuit\n",
    "\n",
    "In order to execute a circuit we need to submit it to a Strawberry Fields\n",
    "``TDMProgram``. Our first step will be to declare the delays in the loops,\n",
    "i.e. the number of modes that will fit in each loop at the same time. We can\n",
    "then use a helper function called ``get_mode_indices`` to get the number of\n",
    "modes that are alive at the same time (*concurrent* modes) ``N``, which is required\n",
    "for initializing the ``TDMProgram``, and the correct mode indices ``n`` for the\n",
    "circuit gates. The parameter ``n`` helps us to define the ``TDMProgram`` in a\n",
    "really concise way, as you will see below.\n",
    "\n",
    "\n"
   ]
  },
  {
   "cell_type": "code",
   "execution_count": null,
   "metadata": {
    "collapsed": false,
    "jupyter": {
     "outputs_hidden": false
    }
   },
   "outputs": [],
   "source": [
    "delays = [1, 6, 36]\n",
    "vac_modes = sum(delays)\n",
    "\n",
    "n, N = get_mode_indices(delays)"
   ]
  },
  {
   "cell_type": "markdown",
   "metadata": {},
   "source": [
    "Finally, we can construct the circuit. The layout of this circuit is\n",
    "set by the hardware device and cannot be changed. If the wrong gates are\n",
    "used or they are put in the wrong order, the circuit validation will\n",
    "fail.\n",
    "\n",
    "\n"
   ]
  },
  {
   "cell_type": "code",
   "execution_count": null,
   "metadata": {
    "collapsed": false,
    "jupyter": {
     "outputs_hidden": false
    }
   },
   "outputs": [],
   "source": [
    "from strawberryfields.ops import Sgate, Rgate, BSgate, MeasureFock\n",
    "\n",
    "prog = sf.TDMProgram(N)\n",
    "\n",
    "with prog.context(*gate_args_list) as (p, q):\n",
    "    Sgate(p[0]) | q[n[0]]\n",
    "    for i in range(len(delays)):\n",
    "        Rgate(p[2 * i + 1]) | q[n[i]]\n",
    "        BSgate(p[2 * i + 2], np.pi / 2) | (q[n[i + 1]], q[n[i]])\n",
    "    MeasureFock() | q[0]"
   ]
  },
  {
   "cell_type": "markdown",
   "metadata": {},
   "source": [
    "### Submit to hardware and analyze results\n",
    "\n",
    "After constructing the circuit, now uniquely defined by the ``prog``\n",
    "object, we can submit it to *Borealis* by calling and running the\n",
    "``RemoteEngine`` object that we created above.\n",
    "\n",
    "\n"
   ]
  },
  {
   "cell_type": "code",
   "execution_count": null,
   "metadata": {
    "collapsed": false,
    "jupyter": {
     "outputs_hidden": false
    }
   },
   "outputs": [],
   "source": [
    "shots = 250_000\n",
    "results = eng.run(prog, shots=shots, crop=True)\n",
    "\n",
    "samples = results.samples"
   ]
  },
  {
   "cell_type": "markdown",
   "metadata": {},
   "source": [
    "<div class=\"alert alert-info\"><h4>Note</h4><p>Depending on how long the first optical pulse is delayed by the respective\n",
    "     loops, the circuit will measure a couple of empty modes at the beginning. The\n",
    "     ``crop=True`` flag will make sure these empty modes are not returned.</p></div>\n",
    "\n",
    "\n"
   ]
  },
  {
   "cell_type": "markdown",
   "metadata": {},
   "source": [
    "Running the circuit remotely on *Borealis* will return an ``sf.Result``\n",
    "object which contains the samples that are obtained by the machine. The\n",
    "samples returned by any ``sf.TDMProgram`` are of shape ``(shots,\n",
    "spatial modes, temporal modes)``. So, in our case we should have received samples of shape\n",
    "``(shots, 1, 216)``.\n",
    "\n",
    "If you followed through with the above steps, you have just run a GBS\n",
    "instance of the same type as demonstrated in our manuscript[<sup>#advantage2022</sup>](#advantage2022)! This paper also explains how to obtain the estimated\n",
    "runtime required by *Fugaku* (currently the world's most powerful classical\n",
    "supercomputer) to simulate the individual GBS samples. You can compute these\n",
    "runtimes for the GBS samples that you just created using the Strawberry Fields\n",
    "utility function ``gbs_sample_runtime``. Note, however, that this analysis is\n",
    "based on the *current* *Fugaku* specs (characterized by the LINPACK\n",
    "supercomputer benchmarks) and on the best *known* algorithm to compute\n",
    "Hafnians. Therefore, this estimation of simulation runtime can be affected in\n",
    "the future by the advent of more powerful computers and/or more efficient\n",
    "algorithms.\n",
    "\n"
   ]
  },
  {
   "cell_type": "code",
   "execution_count": null,
   "metadata": {
    "collapsed": false,
    "jupyter": {
     "outputs_hidden": false
    }
   },
   "outputs": [],
   "source": [
    "from strawberryfields.utils import gbs_sample_runtime\n",
    "\n",
    "runtimes = np.array([gbs_sample_runtime(sample[0]) for sample in samples])"
   ]
  },
  {
   "cell_type": "markdown",
   "metadata": {},
   "source": [
    "Let us illustrate the simulation runtimes in a histogram using ``matplotlib.pyplot``.\n",
    "\n"
   ]
  },
  {
   "cell_type": "code",
   "execution_count": null,
   "metadata": {
    "collapsed": false,
    "jupyter": {
     "outputs_hidden": false
    }
   },
   "outputs": [],
   "source": [
    "import matplotlib.pyplot as plt\n",
    "\n",
    "fs_axlabel = 22\n",
    "fs_text = 20\n",
    "fs_ticklabel = 21\n",
    "fs_legend = 20\n",
    "\n",
    "def plot_simulation_time(runtimes):\n",
    "    \"\"\"Plots a histogram with simulation times.\n",
    "\n",
    "    Args:\n",
    "        runtimes (array[float]): the runtimes per GBS sample\n",
    "    \"\"\"\n",
    "    runtimes_log_years = np.log10(runtimes / 365 / 24 / 3600)\n",
    "    max_exponent = int(max(runtimes_log_years))\n",
    "    min_exponent = int(min(runtimes_log_years))\n",
    "\n",
    "    _, ax = plt.subplots(figsize=(18, 8))\n",
    "    bins = np.arange(min_exponent, max_exponent + 1)\n",
    "    ax.hist(runtimes_log_years, width=0.8, bins=bins - 0.4)\n",
    "    ax.set_xlabel(r\"simulation time [log$_{10}$ years]\", fontsize=fs_axlabel)\n",
    "    ax.set_ylabel(\"occurrence\", fontsize=fs_axlabel)\n",
    "    ax.set_yscale(\"log\")\n",
    "    ax.tick_params(axis=\"x\", labelsize=fs_ticklabel)\n",
    "    ax.tick_params(axis=\"y\", labelsize=fs_ticklabel)\n",
    "    ax.set_xticks(bins)\n",
    "\n",
    "    plt.show()\n",
    "\n",
    "plot_simulation_time(runtimes)"
   ]
  },
  {
   "cell_type": "markdown",
   "metadata": {},
   "source": [
    "![](./.imgs/borealis_simulation_runtimes.png)"
   ]
  },
  {
   "cell_type": "markdown",
   "metadata": {},
   "source": [
    "We can also print the median and average simulation time per sample, the simulation time of your\n",
    "brightest sample (the one with the most photons in it), and the time it would take to simulate\n",
    "*all* the samples you created.\n",
    "\n"
   ]
  },
  {
   "cell_type": "code",
   "execution_count": null,
   "metadata": {
    "collapsed": false,
    "jupyter": {
     "outputs_hidden": false
    }
   },
   "outputs": [],
   "source": [
    "runtime_data = f\"\"\"\n",
    "simulation runtimes [years]\n",
    "median: {np.median(runtimes) / 365 / 24 / 3600:.1E}\n",
    "average: {np.mean(runtimes) / 365 / 24 / 3600:.1E}\n",
    "brightest: {np.max(runtimes) / 365 / 24 / 3600:.1E}\n",
    "total: {np.sum(runtimes) / 365 / 24 / 3600:.1E}\n",
    "\"\"\"\n",
    "\n",
    "print(runtime_data)"
   ]
  },
  {
   "cell_type": "markdown",
   "metadata": {},
   "source": [
    "Next, let us look at the statistical moments of our samples. The following two\n",
    "functions will return an array of mean photon numbers for the 216 modes and a\n",
    "$216 \\times 216$ photon-number covariance matrix whose elements are\n",
    "defined by $\\text{Cov}(n_{i}, n_{j}) = E(n_{i} n_{j})\n",
    "- E(n_{i}) E(n_{j})$.\n",
    "\n",
    "\n"
   ]
  },
  {
   "cell_type": "code",
   "execution_count": null,
   "metadata": {
    "collapsed": false,
    "jupyter": {
     "outputs_hidden": false
    }
   },
   "outputs": [],
   "source": [
    "mean_n = np.mean(samples, axis=(0, 1))\n",
    "cov_n = np.cov(samples[:, 0, :].T)"
   ]
  },
  {
   "cell_type": "markdown",
   "metadata": {},
   "source": [
    "Let's visualize these two results in a figure. This figure can then be used to\n",
    "compare the hardware outcome with local simulations.\n",
    "\n",
    "\n"
   ]
  },
  {
   "cell_type": "code",
   "execution_count": null,
   "metadata": {
    "collapsed": false,
    "jupyter": {
     "outputs_hidden": false
    }
   },
   "outputs": [],
   "source": [
    "import matplotlib.colors\n",
    "\n",
    "def plot_photon_number_moments(mean_n, cov_n):\n",
    "    \"\"\"Plots first and second moment of the photon-number distribution.\n",
    "\n",
    "    Args:\n",
    "        mean_n (array[float]): mean photon number per mode\n",
    "        cov_n (array[int]): photon-number covariance matrix\n",
    "    \"\"\"\n",
    "    _, ax = plt.subplots(1, 2, figsize=(18, 8))\n",
    "\n",
    "    ax[0].bar(range(len(mean_n)), mean_n, width=0.75, align=\"center\")\n",
    "    ax[0].set_title(\n",
    "        rf\"<$n$> = {np.mean(mean_n):.3f}, <$N$> = {np.sum(mean_n):.3f}\",\n",
    "        fontsize=fs_axlabel,\n",
    "    )\n",
    "    ax[0].set_xlabel(\"pulse index\", fontsize=fs_axlabel)\n",
    "    ax[0].set_ylabel(\"mean photon number\", fontsize=fs_axlabel)\n",
    "    ax[0].grid()\n",
    "    ax[0].tick_params(axis=\"x\", labelsize=fs_ticklabel)\n",
    "    ax[0].tick_params(axis=\"y\", labelsize=fs_ticklabel)\n",
    "\n",
    "    ax[1].imshow(\n",
    "        cov_n,\n",
    "        norm=matplotlib.colors.SymLogNorm(linthresh=10e-6, linscale=1e-4, vmin=0, vmax=2),\n",
    "        cmap=\"rainbow\",\n",
    "    )\n",
    "    ax[1].set_title(r\"Cov($n{_i}$, $n{_j}$)\", fontsize=fs_axlabel)\n",
    "    ax[1].tick_params(axis=\"x\", labelsize=fs_ticklabel)\n",
    "    ax[1].tick_params(axis=\"y\", labelsize=fs_ticklabel)\n",
    "\n",
    "    plt.show()\n",
    "\n",
    "plot_photon_number_moments(mean_n, cov_n)"
   ]
  },
  {
   "cell_type": "markdown",
   "metadata": {},
   "source": [
    "![](./.imgs/borealis_moments_experiment.png)\n"
   ]
  },
  {
   "cell_type": "markdown",
   "metadata": {},
   "source": [
    "## Submit to local simulation and compare to hardware results\n",
    "\n",
    "Now, let us switch to a local simulation and see how the results compare\n",
    "against the experimental data. By design, *Borealis* is an experiment that is\n",
    "difficult to sample from classically. What the simulator devices *cannot* do\n",
    "is return actual samples the same way the remote engine does, at least not in\n",
    "a reasonable amount of time. Setting ``shots=None`` in the ``Engine.run()`` call\n",
    "below makes sure that the local engine doesn't even attempt to simulate GBS\n",
    "outcomes. Still, even though the engine won't return samples, running the\n",
    "circuit locally on the Gaussian backend returns an ``sf.Result`` object with\n",
    "many other interesting properties.\n",
    "\n",
    "Loss channels will be added to the program to make\n",
    "the simulation more realistic. To do this, the actual efficiency\n",
    "values obtained in the most recent *Borealis* calibration run, which are\n",
    "stored in the device certificate, will be used during the compilation process.\n",
    "\n"
   ]
  },
  {
   "cell_type": "markdown",
   "metadata": {},
   "source": [
    "We begin by collecting the options that we wish to pass to the compiler prior to running the\n",
    "simulation. To apply realistic loss, instead of using the default backend compiler we need to\n",
    "compile the program using the Borealis compiler. We also need to pass the device along to the\n",
    "engine since it's required by the Borealis compiler and also contains the relevant efficiency\n",
    "values used when applying the loss.\n",
    "\n"
   ]
  },
  {
   "cell_type": "code",
   "execution_count": null,
   "metadata": {
    "collapsed": false,
    "jupyter": {
     "outputs_hidden": false
    }
   },
   "outputs": [],
   "source": [
    "compile_options = {\n",
    "    \"device\": device,\n",
    "    \"realistic_loss\": True,\n",
    "}"
   ]
  },
  {
   "cell_type": "markdown",
   "metadata": {},
   "source": [
    "Finally, we can run the program on the Gaussian backend, setting the number of shots to ``None``\n",
    "--- meaning that no sampling will be attempted --- and the ``crop`` keyword to ``True``, cropping\n",
    "away the empty modes at the beginning. We also need to tell the engine to\n",
    "space-unroll the circuit before running it. Otherwise, the simulation will\n",
    "only handle the concurrent modes, i.e. the modes that are simultaneously alive\n",
    "at a given time (in our case 44), causing the final state to only contain a\n",
    "subset of all the modes. You can read more about space-unrolling in the\n",
    "[advanced tutorial](./tutorial_borealis_advanced.ipynb).\n",
    "\n",
    "To make the code a bit cleaner, we collect all run options in a dictionary which we can unwrap in\n",
    "the run call signature.\n",
    "\n"
   ]
  },
  {
   "cell_type": "code",
   "execution_count": null,
   "metadata": {
    "collapsed": false,
    "jupyter": {
     "outputs_hidden": false
    }
   },
   "outputs": [],
   "source": [
    "run_options = {\n",
    "    \"shots\": None,\n",
    "    \"crop\": True,\n",
    "    \"space_unroll\": True,\n",
    "}\n",
    "\n",
    "eng_sim = sf.Engine(backend=\"gaussian\")\n",
    "results_sim = eng_sim.run(prog, **run_options, compile_options=compile_options)"
   ]
  },
  {
   "cell_type": "markdown",
   "metadata": {},
   "source": [
    "When executing the program on a simulator device, we can extract the covariance\n",
    "matrix by calling the ``cov()`` method on the returned state, which is not\n",
    "possible when running on *Borealis*.\n",
    "\n"
   ]
  },
  {
   "cell_type": "code",
   "execution_count": null,
   "metadata": {
    "collapsed": false,
    "jupyter": {
     "outputs_hidden": false
    }
   },
   "outputs": [],
   "source": [
    "cov = results_sim.state.cov()"
   ]
  },
  {
   "cell_type": "markdown",
   "metadata": {},
   "source": [
    "The covariance matrix describes the quadrature relations of the individual\n",
    "modes and, in the absence of displacements, contains the full information of\n",
    "the Gaussian state. However, if we want to be able to compare the simulation\n",
    "against experimental data, we would like to obtain the same photon-number\n",
    "statistics as above: the array of mean photon numbers for the 216 modes and a\n",
    "$216 \\times 216$ photon-number covariance matrix. We can use\n",
    "``photon_number_mean_vector()`` and ``photon_number_covmat()``, two functions\n",
    "from Xanadu's open-source library [The Walrus](https://the-walrus.readthedocs.io/),\n",
    "to obtain these distributions from the quadrature covariance matrix.\n",
    "\n",
    "\n"
   ]
  },
  {
   "cell_type": "code",
   "execution_count": null,
   "metadata": {
    "collapsed": false,
    "jupyter": {
     "outputs_hidden": false
    }
   },
   "outputs": [],
   "source": [
    "from thewalrus.quantum import (\n",
    "    photon_number_mean_vector,\n",
    "    photon_number_covmat,\n",
    ")\n",
    "\n",
    "mu = np.zeros(len(cov))\n",
    "mean_n_sim = photon_number_mean_vector(mu, cov)\n",
    "cov_n_sim = photon_number_covmat(mu, cov)\n",
    "\n",
    "plot_photon_number_moments(mean_n_sim, cov_n_sim)"
   ]
  },
  {
   "cell_type": "markdown",
   "metadata": {},
   "source": [
    "![](./.imgs/borealis_moments_simulation.png)\n",
    "\n",
    "\n"
   ]
  },
  {
   "cell_type": "markdown",
   "metadata": {},
   "source": [
    "If you have submitted the same circuit to both *Borealis* and the local simulator backend,\n",
    "following the steps above, you should be able to compare the two results. We can also visualize\n",
    "the similarities between the two using scatter plots with the first and second moments of the\n",
    "simulated and experimental photon-number distributions.\n",
    "\n"
   ]
  },
  {
   "cell_type": "code",
   "execution_count": null,
   "metadata": {
    "collapsed": false,
    "jupyter": {
     "outputs_hidden": false
    }
   },
   "outputs": [],
   "source": [
    "def plot_photon_number_moment_comparison(mean_n_exp, mean_n_sim, cov_n_exp, cov_n_sim):\n",
    "    \"\"\"Plot first and second moment of the PNR distribution.\n",
    "\n",
    "    Compare in scatter plots the first and second moments of the photon-number\n",
    "    distribution resulting from experiment and simulation.\n",
    "\n",
    "    Args:\n",
    "        mean_n_exp (array): experimental mean photon number per mode\n",
    "        mean_n_sim (array): simulated mean photon number per mode\n",
    "        cov_n_exp (array): experimental photon-number covariance matrix\n",
    "        cov_n_sim (array): simulated photon-number covariance matrix\n",
    "    \"\"\"\n",
    "    cov_n_exp2 = np.copy(cov_n_exp)\n",
    "    cov_n_sim2 = np.copy(cov_n_sim)\n",
    "\n",
    "    # remove the diagonal elements (corresponding to the single-mode variance)\n",
    "    # which would otherwise be dominant\n",
    "    cov_n_exp2 -= np.diag(np.diag(cov_n_exp2))\n",
    "    cov_n_sim2 -= np.diag(np.diag(cov_n_sim2))\n",
    "\n",
    "    _, ax = plt.subplots(1, 2, figsize=(18, 8))\n",
    "\n",
    "    min_ = np.min([mean_n_sim, mean_n_exp])\n",
    "    max_ = np.max([mean_n_sim, mean_n_exp])\n",
    "    ax[0].scatter(mean_n_sim, mean_n_exp, s=4, alpha=0.50)\n",
    "    ax[0].plot([min_, max_], [min_, max_], \"k--\")\n",
    "    ax[0].set_title(\"1st moment\", fontsize=fs_axlabel)\n",
    "    ax[0].set_xlabel(\"simulation\", fontsize=fs_axlabel)\n",
    "    ax[0].set_ylabel(\"experiment\", fontsize=fs_axlabel)\n",
    "    ax[0].set_xlim([min_, max_])\n",
    "    ax[0].set_ylim([min_, max_])\n",
    "    ax[0].set_aspect(\"equal\", adjustable=\"box\")\n",
    "    ax[0].tick_params(axis=\"x\", labelsize=fs_ticklabel)\n",
    "    ax[0].tick_params(axis=\"y\", labelsize=fs_ticklabel)\n",
    "    ax[0].grid()\n",
    "\n",
    "    min_ = np.min([cov_n_sim2, cov_n_exp2])\n",
    "    max_ = np.max([cov_n_sim2, cov_n_exp2])\n",
    "    ax[1].scatter(cov_n_sim2, cov_n_exp2, s=4, alpha=0.50)\n",
    "    ax[1].plot([min_, max_], [min_, max_], \"k--\")\n",
    "    ax[1].set_title(\"2nd moment\", fontsize=fs_axlabel)\n",
    "    ax[1].set_xlabel(\"simulation\", fontsize=fs_axlabel)\n",
    "    ax[1].set_ylabel(\"experiment\", fontsize=fs_axlabel)\n",
    "    ax[1].set_xlim([min_, max_])\n",
    "    ax[1].set_ylim([min_, max_])\n",
    "    ax[1].set_aspect(\"equal\", adjustable=\"box\")\n",
    "    ax[1].tick_params(axis=\"x\", labelsize=fs_ticklabel)\n",
    "    ax[1].tick_params(axis=\"y\", labelsize=fs_ticklabel)\n",
    "    ax[1].grid()\n",
    "\n",
    "    plt.show()\n",
    "\n",
    "plot_photon_number_moment_comparison(mean_n, mean_n_sim, cov_n, cov_n_sim)"
   ]
  },
  {
   "cell_type": "markdown",
   "metadata": {},
   "source": [
    "![](./.imgs/borealis_cumulant_comparison.png)\n",
    "\n",
    "If everything is working as expected, the scatter points should be distributed close to the\n",
    "diagonals. This means that the experiment and simulation are in good agreement with one another.\n",
    "\n"
   ]
  },
  {
   "cell_type": "markdown",
   "metadata": {},
   "source": [
    "Conclusion\n",
    "===\n",
    "\n",
    "This tutorial covered how to submit jobs to our temporal-division multiplexing\n",
    "device *Borealis*. It's rather exciting to be able to demonstrate the concept\n",
    "of quantum computational advantage by examples running on actual hardware. As\n",
    "you have now seen, there are quite a few details to keep track of. As\n",
    "long as the circuit follows the correct layout and the parameters are\n",
    "correctly declared, anyone with Xanadu cloud access can submit jobs to be\n",
    "excecuted on *Borealis* and get back samples that would be difficult, if not\n",
    "outright impossible, to retrieve using a local simulator.\n",
    "\n",
    "You can find some more examples of how to visualize your data [here](https://github.com/XanaduAI/strawberryfields/blob/master/examples/gbs_data_visualization.py).\n",
    "\n",
    "We hope that you've enjoyed this demonstration and that you're as excited as\n",
    "we are about the possibilities. If you wish to dig deeper into the science\n",
    "behind all of this, we recommend that you [read our paper](#advantage2022) and\n",
    "check out our [advanced Borealis tutorial](./tutorial_borealis_advanced.ipynb).\n",
    "\n",
    "\n"
   ]
  },
  {
   "cell_type": "markdown",
   "metadata": {},
   "source": [
    "<h2>References</h2>\n",
    "\n",
    "\n",
    "<span id=\"advantage2022\">[advantage2022]</span>: <link> Quantum computational advantage with a programmable photonic processor\n",
    "\n"
   ]
  },
  {
   "cell_type": "code",
   "execution_count": null,
   "metadata": {},
   "outputs": [],
   "source": [
    "About the authors\n",
    "-----------------\n",
    "<div class=\"bio\" style=\"display: flex\">\n",
    "    <div class=\"photo\" style=\"max-width: 60px; margin-right: 1em;\">\n",
    "        <img class=\"photo__img\" src=\"./.imgs/Theodor.jpg\" alt=\"Theodor Isacsson\" style=\"width: 100%; border-radius: 50%;\">\n",
    "    </div>\n",
    "    <div class=\"bio-text\">\n",
    "        <h4 class=\"bio-text__author-name\" style=\"margin-top: 0; margin-bottom: 0; font-weight: bold;\">Theodor Isacsson</h4>\n",
    "        <p class=\"bio-text__author-description\" style=\"margin-top: 1em;\">Theodor is a quantum software developer at Xanadu. He works on the\n",
    "            photonics software stack, leading the efforts to expand and maintain packages such as Strawberry Fields and\n",
    "            The Walrus.</p>\n",
    "    </div>\n",
    "</div>\n",
    "<div class=\"bio\" style=\"display: flex\">\n",
    "    <div class=\"photo\" style=\"max-width: 60px; margin-right: 1em;\">\n",
    "        <img class=\"photo__img\" src=\"./.imgs/avatar.webp\" alt=\"Fabian Laudenbach\" style=\"width: 100%; border-radius: 50%;\">\n",
    "    </div>\n",
    "    <div class=\"bio-text\">\n",
    "        <h4 class=\"bio-text__author-name\" style=\"margin-top: 0; margin-bottom: 0; font-weight: bold;\">Fabian Laudenbach</h4>\n",
    "        <p class=\"bio-text__author-description\" style=\"margin-top: 1em;\">Fabian is an Experimental Physicist at Xanadu. He is one of the lead\n",
    "            authors of the publication showcasing quantum advantage with Borealis.</p>\n",
    "    </div>\n",
    "</div>"
   ]
  }
 ],
 "metadata": {
  "kernelspec": {
   "display_name": "PennyLane",
   "language": "python",
   "name": "pennylane"
  },
  "language_info": {
   "codemirror_mode": {
    "name": "ipython",
    "version": 3
   },
   "file_extension": ".py",
   "mimetype": "text/x-python",
   "name": "python",
   "nbconvert_exporter": "python",
   "pygments_lexer": "ipython3",
   "version": "3.9.12"
  }
 },
 "nbformat": 4,
 "nbformat_minor": 4
}
